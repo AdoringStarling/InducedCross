{
 "cells": [
  {
   "cell_type": "markdown",
   "metadata": {},
   "source": [
    "# Análisis de la posible sismicidad inducida presentada en La Loma, Cesar desde el espectro de frecuencias"
   ]
  },
  {
   "cell_type": "code",
   "execution_count": 62,
   "metadata": {},
   "outputs": [],
   "source": [
    "import pandas as pd\n",
    "import numpy as np\n",
    "import matplotlib.pyplot as plt\n",
    "import pyproj\n",
    "import plotly.graph_objects as go\n",
    "#import obspy\n",
    "#import spec \n",
    "#import scipy"
   ]
  },
  {
   "cell_type": "markdown",
   "metadata": {},
   "source": [
    "## Antecedentes"
   ]
  },
  {
   "cell_type": "markdown",
   "metadata": {},
   "source": [
    "-   https://www.elheraldo.co/economia/consejo-de-estado-ordena-suspender-produccion-de-gas-de-drummond-en-campo-la-loma-687184\n",
    "-   https://co.boell.org/es/2022/09/12/pierden-con-el-carbon-y-sin-el-los-dilemas-de-la-transicion-energetica-en-cesar\n",
    "-   https://elpilon.com.co/consejo-de-estado-revoco-medida-que-suspendia-trabajo-de-drummond-en-15-pozos-del-cesar/\n",
    "-   https://guiadelgas.com/industria/consejo-de-estado-suspende-15-pozos-de-drummond-en-el-campo-la-loma/\n",
    "-   https://www.semana.com/impacto/articulo/drummond-tendra-que-suspender-operaciones-en-15-pozos-de-gas-en-el-cesar/48075/\n",
    "-   https://www.elheraldo.co/economia/consejo-de-estado-ordena-suspender-produccion-de-gas-de-drummond-en-campo-la-loma-687184"
   ]
  },
  {
   "cell_type": "markdown",
   "metadata": {},
   "source": [
    "\"Las actividades de estimulación hidráulica se adelantaron entre el 14 de marzo de 2018 y el tercer trimestre del mismo año, por medio de la perforación de 15 pozos. Esos pozos actualmente se encuentran en fase de producción.\""
   ]
  },
  {
   "cell_type": "markdown",
   "metadata": {},
   "source": [
    "## Filtros"
   ]
  },
  {
   "cell_type": "markdown",
   "metadata": {},
   "source": [
    "Para este trabajo se utilizo una ventana de tiempo entre 1 de Junio de 1993 y 7 de Noviembre del 2022, para sismos con profundidades menores a 16 km, como lo dice la normatividad Colombiana, en un area cuadrada de () y ()."
   ]
  },
  {
   "cell_type": "markdown",
   "metadata": {},
   "source": [
    "## Datos"
   ]
  },
  {
   "cell_type": "markdown",
   "metadata": {},
   "source": [
    "-   Datos de pozos extraidos de https://srvags.sgc.gov.co/JSViewer/GEOVISOR_BIP/\n",
    "-   Datos del area minera extraidos de ____\n",
    "-   Datos de sismos extraidos de http://bdrsnc.sgc.gov.co/paginas1/catalogo/index.php\n",
    "    -   http://bdrsnc.sgc.gov.co/paginas1/catalogo/Consulta_Experta/consulsismo3.php?pagina=1&longitudStart=-73.76&lat=&longitudEnd=-73.30&latitudStart=9.35&latitudEnd=9.90&magnitudStart=0&magnitudEnd=9&magnitudmwStart=0&magnitudmwEnd=9&depthStart=0&depthEnd=18&rmsStart=0&rmsEnd=10&inicial=01/06/1993&final=28/02/2018&contipo=cuadrante&longcentral=&radio=&registro1=70&departamento=&municipio=&gapinicio=0&gapfinal=360&eprofmin=0&elongmin=0&elatmin=0&eprofmax=999&elongmax=999&elatmax=999\n",
    "    -   "
   ]
  },
  {
   "cell_type": "markdown",
   "metadata": {},
   "source": [
    "## Manejo de Datos"
   ]
  },
  {
   "cell_type": "markdown",
   "metadata": {},
   "source": [
    "### Pozos"
   ]
  },
  {
   "cell_type": "code",
   "execution_count": 63,
   "metadata": {},
   "outputs": [],
   "source": [
    "well=pd.read_csv('BIP_pozos.csv')\n",
    "well=well[np.isin(well['FIELD_ABRE'],['LA LOMA','LA LOMA (LA LOMA)'])]"
   ]
  },
  {
   "cell_type": "code",
   "execution_count": 64,
   "metadata": {},
   "outputs": [],
   "source": [
    "region=(well['WELL_X_COO'].max()+10000,well['WELL_Y_COO'].max()+10000,well['WELL_X_COO'].min()-10000,well['WELL_Y_COO'].min()-10000)"
   ]
  },
  {
   "cell_type": "code",
   "execution_count": 65,
   "metadata": {},
   "outputs": [
    {
     "data": {
      "text/plain": [
       "1085283.0"
      ]
     },
     "execution_count": 65,
     "metadata": {},
     "output_type": "execute_result"
    }
   ],
   "source": [
    "region[0]"
   ]
  },
  {
   "cell_type": "code",
   "execution_count": 66,
   "metadata": {},
   "outputs": [
    {
     "data": {
      "text/plain": [
       "1034438.5"
      ]
     },
     "execution_count": 66,
     "metadata": {},
     "output_type": "execute_result"
    }
   ],
   "source": [
    "region[2]"
   ]
  },
  {
   "cell_type": "code",
   "execution_count": 67,
   "metadata": {},
   "outputs": [
    {
     "data": {
      "image/png": "[encoded data removed]",
      "text/plain": [
       "<Figure size 640x480 with 1 Axes>"
      ]
     },
     "metadata": {},
     "output_type": "display_data"
    }
   ],
   "source": [
    "plt.plot(well['WELL_X_COO'],well['WELL_Y_COO'],'.')\n",
    "plt.xlim(region[0],region[2])\n",
    "plt.ylim(region[1],region[3])\n",
    "plt.show()"
   ]
  },
  {
   "cell_type": "markdown",
   "metadata": {},
   "source": [
    "Pasar de coordenadas geográficas a métricas"
   ]
  },
  {
   "cell_type": "code",
   "execution_count": 68,
   "metadata": {},
   "outputs": [],
   "source": [
    "magnas_wgs = pyproj.Transformer.from_crs('epsg:3116', 'epsg:4326')"
   ]
  },
  {
   "cell_type": "code",
   "execution_count": 69,
   "metadata": {},
   "outputs": [],
   "source": [
    "x,y=([region[0],region[0],region[2],region[2]],[region[1],region[3],region[1],region[3]])"
   ]
  },
  {
   "cell_type": "code",
   "execution_count": 70,
   "metadata": {},
   "outputs": [],
   "source": [
    "lat, lon = magnas_wgs.transform(y, x)\n",
    "lat, lon = np.array(lat),np.array(lon)"
   ]
  },
  {
   "cell_type": "code",
   "execution_count": 71,
   "metadata": {},
   "outputs": [
    {
     "data": {
      "text/plain": [
       "[<matplotlib.lines.Line2D at 0x1e5405fd9f0>]"
      ]
     },
     "execution_count": 71,
     "metadata": {},
     "output_type": "execute_result"
    },
    {
     "data": {
      "image/png": "[encoded data removed]",
      "text/plain": [
       "<Figure size 640x480 with 1 Axes>"
      ]
     },
     "metadata": {},
     "output_type": "display_data"
    }
   ],
   "source": [
    "plt.plot(well['WELL_LONGI'],well['WELL_LATIT'],'r.')\n",
    "plt.plot(lon,lat,'.')"
   ]
  },
  {
   "cell_type": "code",
   "execution_count": 72,
   "metadata": {},
   "outputs": [],
   "source": [
    "reg=(lon.max(),lat.max(),lon.min(),lat.min())"
   ]
  },
  {
   "cell_type": "code",
   "execution_count": 73,
   "metadata": {},
   "outputs": [],
   "source": [
    "filtros=[-73.76,9.35,-73.30,9.90]"
   ]
  },
  {
   "cell_type": "code",
   "execution_count": 74,
   "metadata": {},
   "outputs": [],
   "source": [
    "well['DP']=well['WELL_TVD']*0.3048"
   ]
  },
  {
   "cell_type": "markdown",
   "metadata": {},
   "source": [
    "### Sismos"
   ]
  },
  {
   "cell_type": "code",
   "execution_count": 75,
   "metadata": {},
   "outputs": [],
   "source": [
    "da=pd.read_csv('SEISAN.csv',delimiter=';',decimal=',')\n",
    "db=pd.read_csv('SEISCOMP.csv')"
   ]
  },
  {
   "cell_type": "code",
   "execution_count": 76,
   "metadata": {},
   "outputs": [],
   "source": [
    "da['UTC']=da['FECHA']+[' ']*len(da['FECHA'])+da['HORA_UTC']\n",
    "da=da[['UTC', 'LATITUD (grados)', 'LONGITUD (grados)','PROFUNDIDAD (Km)', 'MAGNITUD Ml','RMS (Seg)', 'GAP (grados)','ERROR LATITUD (Km)', 'ERROR LONGITUD (Km)', 'ERROR PROFUNDIDAD (Km)',]]\n",
    "db=db[['Fecha-Hora  (UTC)', 'Lat(°)', 'Long(°)', 'Prof(Km)', 'Mag.', 'Rms(Seg)', 'Gap(°)', 'Error Lat(Km)','Error Long(Km)', 'Error Prof(Km)']]\n"
   ]
  },
  {
   "cell_type": "code",
   "execution_count": 77,
   "metadata": {},
   "outputs": [],
   "source": [
    "renb={}\n",
    "for key,val in zip(['Fecha-Hora  (UTC)', 'Lat(°)', 'Long(°)', 'Prof(Km)', 'Mag.', 'Rms(Seg)', 'Gap(°)', 'Error Lat(Km)','Error Long(Km)', 'Error Prof(Km)'],\n",
    "                    ['UTC','LAT','LON','DP','MAG','RMS','GAP','ELAT','ELON','EDP']):\n",
    "    renb[key]=val"
   ]
  },
  {
   "cell_type": "code",
   "execution_count": 78,
   "metadata": {},
   "outputs": [],
   "source": [
    "db=db.rename(columns=renb)"
   ]
  },
  {
   "cell_type": "code",
   "execution_count": 79,
   "metadata": {},
   "outputs": [],
   "source": [
    "rena={}\n",
    "for key,val in zip(['UTC', 'LATITUD (grados)', 'LONGITUD (grados)','PROFUNDIDAD (Km)', 'MAGNITUD Ml', 'RMS (Seg)', 'GAP (grados)','ERROR LATITUD (Km)', 'ERROR LONGITUD (Km)', 'ERROR PROFUNDIDAD (Km)'],\n",
    "                    ['UTC','LAT','LON','DP','MAG','RMS','GAP','ELAT','ELON','EDP']):\n",
    "    rena[key]=val"
   ]
  },
  {
   "cell_type": "code",
   "execution_count": 80,
   "metadata": {},
   "outputs": [],
   "source": [
    "da=da.rename(columns=rena)"
   ]
  },
  {
   "cell_type": "code",
   "execution_count": 81,
   "metadata": {},
   "outputs": [],
   "source": [
    "eq=pd.concat([da,db])"
   ]
  },
  {
   "cell_type": "code",
   "execution_count": 82,
   "metadata": {},
   "outputs": [
    {
     "name": "stderr",
     "output_type": "stream",
     "text": [
      "C:\\Users\\jujim\\AppData\\Local\\Temp\\ipykernel_16660\\2400040990.py:2: UserWarning:\n",
      "\n",
      "You passed a edgecolor/edgecolors ('red') for an unfilled marker (11).  Matplotlib is ignoring the edgecolor in favor of the facecolor.  This behavior may change in the future.\n",
      "\n"
     ]
    },
    {
     "data": {
      "image/png": "[encoded data removed]",
      "text/plain": [
       "<Figure size 1000x1000 with 2 Axes>"
      ]
     },
     "metadata": {},
     "output_type": "display_data"
    }
   ],
   "source": [
    "plt.figure(figsize=(10,10))\n",
    "plt.scatter(well['WELL_LONGI'],well['WELL_LATIT'],c='black',marker=11,s=6,edgecolor='red')\n",
    "plt.errorbar(eq['LON'],eq['LAT'],yerr=eq['ELAT']/111.1,xerr=eq['ELON']/111.1,elinewidth=0.1,fmt='none')\n",
    "plt.scatter(eq['LON'],eq['LAT'],c=eq['DP'],cmap='jet_r',s=2**eq['MAG'])\n",
    "plt.colorbar()\n",
    "plt.xlim(filtros[0],filtros[2])\n",
    "plt.ylim(filtros[1],filtros[3])\n",
    "plt.show()"
   ]
  },
  {
   "cell_type": "code",
   "execution_count": 83,
   "metadata": {},
   "outputs": [
    {
     "data": {
      "image/png": "[encoded data removed]",
      "text/plain": [
       "<Figure size 1000x1000 with 2 Axes>"
      ]
     },
     "metadata": {},
     "output_type": "display_data"
    }
   ],
   "source": [
    "plt.figure(figsize=(10,10))\n",
    "plt.errorbar(eq['LON'],eq['LAT'],yerr=eq['ELAT']/111.1,xerr=eq['ELON']/111.1,elinewidth=0.1,fmt='none')\n",
    "plt.scatter(well['WELL_LONGI'],well['WELL_LATIT'],c='black',marker=11,s=6)\n",
    "plt.scatter(eq['LON'],eq['LAT'],c=eq['DP'],cmap='jet_r',s=2**eq['MAG'])\n",
    "plt.colorbar()\n",
    "plt.xlim(-73.55,-73.45)\n",
    "plt.ylim(9.5,9.55)\n",
    "plt.show()"
   ]
  },
  {
   "cell_type": "code",
   "execution_count": 84,
   "metadata": {},
   "outputs": [
    {
     "data": {
      "image/png": "[encoded data removed]",
      "text/plain": [
       "<Figure size 1000x1000 with 2 Axes>"
      ]
     },
     "metadata": {},
     "output_type": "display_data"
    }
   ],
   "source": [
    "plt.figure(figsize=(10,10))\n",
    "plt.plot([well['WELL_LATIT'],well['WELL_LATIT']],[[0]*len(well['DP']),well['DP']*-1],'k')\n",
    "plt.errorbar(eq['LAT'],eq['DP']*1000,yerr=eq['EDP']*1000,xerr=eq['ELAT']/111.1,elinewidth=0.1,fmt='none')\n",
    "plt.scatter(eq['LAT'],eq['DP']*-1000,c=eq['MAG'],s=6,cmap='autumn')\n",
    "plt.colorbar()\n",
    "plt.ylim(-5000,0)\n",
    "plt.xlim(filtros[1],filtros[3])\n",
    "# plt.xlim(9.5,9.55)\n",
    "plt.show()"
   ]
  },
  {
   "cell_type": "code",
   "execution_count": 85,
   "metadata": {},
   "outputs": [],
   "source": [
    "cumulative=np.cumsum([1]*len(eq['UTC']))"
   ]
  },
  {
   "cell_type": "code",
   "execution_count": 86,
   "metadata": {},
   "outputs": [],
   "source": [
    "eq['UTC']=pd.to_datetime(eq['UTC'])\n",
    "slope=pd.DataFrame()\n",
    "slope['day']=(eq['UTC'].map(pd.Timestamp.timestamp)-8.49751113e+08)/(3600*24)\n",
    "slope['cum']=cumulative"
   ]
  },
  {
   "cell_type": "code",
   "execution_count": 87,
   "metadata": {},
   "outputs": [],
   "source": [
    "slopev=[]\n",
    "for i in range(len(slope['day'].values)-1):\n",
    "    slopev.append((slope['cum'].values[i+1]-slope['cum'].values[i])/(slope['day'].values[i+1]-slope['day'].values[i]))"
   ]
  },
  {
   "cell_type": "code",
   "execution_count": 88,
   "metadata": {},
   "outputs": [
    {
     "data": {
      "application/vnd.plotly.v1+json": {
       "config": {
        "plotlyServerURL": "https://plot.ly"
       },
       "data": [
        {
         "type": "scatter",
         "x": [
          "1996-12-05T01:58:33",
          "1997-03-20T20:52:59",
          "1997-06-09T15:57:09",
          "1997-12-11T18:55:17",
          "1998-08-12T03:41:48",
          "1999-05-09T07:57:10",
          "1999-05-14T03:18:14",
          "2001-08-28T17:49:28",
          "2001-09-10T17:01:12",
          "2001-10-22T16:58:57",
          "2001-12-03T16:49:56",
          "2001-12-09T18:31:44",
          "2001-12-20T18:27:26",
          "2002-01-08T11:20:22",
          "2002-03-05T04:41:31",
          "2002-07-01T14:49:31",
          "2002-07-06T03:54:53",
          "2005-01-11T18:37:19",
          "2005-02-03T11:17:38",
          "2005-11-09T17:08:47",
          "2006-08-25T02:25:50",
          "2006-11-12T18:30:55",
          "2007-04-05T05:55:11",
          "2008-04-04T17:00:25",
          "2008-05-05T17:46:49",
          "2009-02-17T11:01:15",
          "2009-04-08T17:43:31",
          "2009-06-07T22:59:49",
          "2009-06-12T17:42:53",
          "2009-06-18T17:51:33",
          "2009-08-28T17:53:53",
          "2009-09-23T22:44:49",
          "2009-10-13T17:45:48",
          "2009-10-18T17:46:58",
          "2009-10-28T17:40:10",
          "2009-10-28T17:50:10",
          "2009-11-03T17:45:40",
          "2009-11-10T17:45:35",
          "2009-11-15T22:45:25",
          "2009-11-28T17:42:22",
          "2009-12-12T17:46:57",
          "2009-12-24T17:45:37",
          "2010-01-06T17:43:34",
          "2010-01-10T22:55:38",
          "2010-02-20T17:46:29",
          "2010-03-10T17:46:28",
          "2010-03-31T17:46:10",
          "2010-04-04T17:43:56",
          "2010-04-18T07:12:43",
          "2010-04-24T16:42:37",
          "2010-04-29T17:47:10",
          "2010-05-03T17:45:17",
          "2010-05-05T17:41:35",
          "2010-05-09T17:50:57",
          "2010-05-13T17:46:15",
          "2010-05-14T17:45:00",
          "2010-05-15T16:38:55",
          "2010-05-20T17:15:07",
          "2010-05-21T17:50:13",
          "2010-05-22T17:48:00",
          "2010-05-23T17:29:23",
          "2010-05-23T17:54:36",
          "2010-05-25T17:46:05",
          "2010-05-27T17:04:01",
          "2010-06-03T17:44:51",
          "2010-06-06T20:00:30",
          "2010-06-08T17:23:01",
          "2010-06-09T17:44:29",
          "2010-06-11T17:13:05",
          "2010-06-11T17:20:34",
          "2010-06-14T17:49:13",
          "2010-06-20T16:19:31",
          "2010-06-22T17:43:00",
          "2010-06-29T17:30:35",
          "2010-07-01T10:54:18",
          "2010-07-05T17:32:13",
          "2010-07-09T17:20:38",
          "2010-07-09T17:47:54",
          "2010-07-16T16:34:31",
          "2010-07-23T02:51:19",
          "2010-07-23T17:49:47",
          "2010-07-25T17:46:13",
          "2010-07-29T17:44:24",
          "2010-08-02T18:02:33",
          "2010-08-06T17:52:02",
          "2010-08-12T17:45:33",
          "2010-08-14T17:45:06",
          "2010-08-17T17:48:07",
          "2010-08-22T17:50:19",
          "2010-08-25T18:04:43",
          "2010-08-27T17:47:39",
          "2010-08-28T03:15:02",
          "2010-08-29T17:31:53",
          "2010-09-02T18:02:16",
          "2010-09-03T17:29:46",
          "2010-09-11T17:47:45",
          "2010-09-12T17:47:07",
          "2010-09-16T17:44:58",
          "2010-09-22T17:45:53",
          "2010-09-24T17:45:35",
          "2010-09-27T17:45:05",
          "2010-10-08T17:46:04",
          "2010-10-14T22:58:21",
          "2010-10-25T17:45:06",
          "2010-10-26T17:47:49",
          "2010-10-27T17:44:28",
          "2010-10-28T17:43:48",
          "2010-10-29T17:46:40",
          "2010-10-31T17:43:07",
          "2010-11-03T17:48:53",
          "2010-11-06T17:57:42",
          "2010-11-10T17:47:38",
          "2010-11-18T17:42:16",
          "2010-11-19T17:45:16",
          "2010-11-29T17:53:11",
          "2010-12-11T17:48:03",
          "2010-12-19T17:47:45",
          "2010-12-28T17:42:38",
          "2011-01-11T17:52:35",
          "2011-01-12T17:47:29",
          "2011-01-13T17:55:22",
          "2011-01-14T17:47:44",
          "2011-01-16T22:47:28",
          "2011-01-19T17:44:25",
          "2011-01-21T17:42:02",
          "2011-01-25T17:46:16",
          "2011-01-28T17:45:02",
          "2011-02-06T17:45:31",
          "2011-02-11T17:43:49",
          "2011-02-16T17:46:36",
          "2011-02-27T17:48:13",
          "2011-03-01T17:44:49",
          "2011-03-04T17:48:50",
          "2011-03-10T17:46:31",
          "2011-04-07T17:42:08",
          "2011-04-18T17:47:38",
          "2011-04-19T17:31:21",
          "2011-04-19T17:45:31",
          "2011-04-22T17:45:40",
          "2011-04-26T17:42:57",
          "2011-04-27T17:42:43",
          "2011-05-02T17:41:15",
          "2011-05-09T17:17:45",
          "2011-05-14T17:47:27",
          "2011-05-15T17:35:09",
          "2011-05-15T17:44:28",
          "2011-05-18T17:24:12",
          "2011-05-18T17:47:42",
          "2011-05-19T16:36:16",
          "2011-05-20T17:26:45",
          "2011-05-20T17:43:56",
          "2011-05-21T17:22:36",
          "2011-05-22T17:32:07",
          "2011-05-22T17:50:58",
          "2011-05-22T17:56:44",
          "2011-05-23T17:19:49",
          "2011-05-24T17:52:48",
          "2011-05-24T23:06:38",
          "2011-05-27T17:19:16",
          "2011-06-02T10:54:06",
          "2011-06-04T17:46:11",
          "2011-06-04T22:54:20",
          "2011-06-07T17:45:15",
          "2011-06-07T22:56:21",
          "2011-06-08T17:46:43",
          "2011-06-10T10:55:30",
          "2011-06-10T17:50:19",
          "2011-06-14T17:48:36",
          "2011-06-15T17:43:39",
          "2011-06-17T17:55:29",
          "2011-06-19T17:49:13",
          "2011-06-20T11:00:57",
          "2011-06-21T10:55:01",
          "2011-06-21T17:23:54",
          "2011-06-24T16:59:41",
          "2011-06-24T18:52:55",
          "2011-06-25T17:33:49",
          "2011-06-25T22:02:01",
          "2011-06-27T17:41:41",
          "2011-06-27T20:37:30",
          "2011-06-29T17:29:19",
          "2011-06-29T18:33:44",
          "2011-06-30T16:40:51",
          "2011-07-01T18:34:36",
          "2011-07-02T17:47:01",
          "2011-07-03T17:39:03",
          "2011-07-03T22:56:22",
          "2011-07-04T17:21:07",
          "2011-07-04T17:47:12",
          "2011-07-04T22:51:00",
          "2011-07-07T17:41:45",
          "2011-07-12T17:41:46",
          "2011-07-12T17:51:22",
          "2011-07-15T18:01:56",
          "2011-07-15T22:10:38",
          "2011-07-17T18:06:57",
          "2011-08-02T17:29:57",
          "2011-08-15T04:40:19",
          "2011-08-15T18:16:34",
          "2011-08-19T17:40:07",
          "2011-08-20T22:55:04",
          "2011-08-27T17:58:02",
          "2011-08-31T17:46:16",
          "2011-09-09T17:45:23",
          "2011-09-10T22:37:31",
          "2011-09-11T22:59:12",
          "2011-09-21T17:45:36",
          "2011-09-26T21:52:33",
          "2011-09-27T17:20:32",
          "2011-09-28T18:45:39",
          "2011-09-29T17:40:23",
          "2011-09-30T17:52:14",
          "2011-10-02T17:46:08",
          "2011-10-02T23:02:06",
          "2011-10-02T23:05:18",
          "2011-10-08T18:09:08",
          "2011-10-09T22:55:56",
          "2011-10-11T17:12:46",
          "2011-10-11T17:52:23",
          "2011-10-12T17:31:07",
          "2011-10-16T14:44:33",
          "2011-10-18T17:50:39",
          "2011-10-24T17:56:14",
          "2011-10-25T19:00:16",
          "2011-10-26T16:57:43",
          "2011-10-29T17:41:03",
          "2011-10-30T16:44:53",
          "2011-10-31T16:35:01",
          "2011-10-31T23:03:17",
          "2011-11-01T17:41:39",
          "2011-11-06T17:10:44",
          "2011-11-06T17:49:44",
          "2011-11-09T16:57:22",
          "2011-11-09T23:03:18",
          "2011-11-15T17:02:55",
          "2011-11-15T18:03:59",
          "2011-11-17T23:54:56",
          "2011-11-19T17:26:41",
          "2011-11-21T17:24:45",
          "2011-11-22T17:43:03",
          "2011-11-26T04:28:31",
          "2011-11-26T17:43:07",
          "2011-11-27T18:10:00",
          "2011-11-28T17:13:33",
          "2011-11-29T17:44:07",
          "2011-11-30T17:00:09",
          "2011-11-30T18:01:18",
          "2011-12-05T17:24:03",
          "2011-12-09T17:53:47",
          "2011-12-25T20:30:13",
          "2012-01-10T17:44:49",
          "2012-02-04T17:20:26",
          "2012-02-09T17:41:26",
          "2012-02-26T17:44:23",
          "2012-03-01T17:22:37",
          "2012-03-05T17:20:45",
          "2012-03-06T17:42:33",
          "2012-03-08T17:42:41",
          "2012-03-24T17:29:04",
          "2012-03-29T17:57:30",
          "2012-03-31T17:45:43",
          "2012-04-01T17:43:15",
          "2012-04-05T17:44:11",
          "2012-04-06T17:42:05",
          "2012-04-10T17:42:53",
          "2012-04-16T17:46:52",
          "2012-04-18T17:17:09",
          "2012-04-20T17:42:45",
          "2012-04-22T17:56:52",
          "2012-04-23T17:14:54",
          "2012-04-24T21:35:37",
          "2012-05-13T17:18:05",
          "2012-05-17T17:25:34",
          "2012-05-17T17:48:28",
          "2012-05-19T17:39:21",
          "2012-05-20T17:56:03",
          "2012-05-21T23:02:04",
          "2012-05-23T17:30:27",
          "2012-05-27T17:31:30",
          "2012-05-28T17:42:25",
          "2012-06-03T17:36:13",
          "2012-06-14T17:23:07",
          "2012-06-18T17:33:55",
          "2012-06-24T17:39:53",
          "2012-07-08T22:12:10",
          "2012-07-09T17:38:47",
          "2012-07-12T22:11:16",
          "2012-07-29T11:30:01",
          "2012-08-03T11:32:34",
          "2012-08-05T11:25:09",
          "2012-08-05T11:27:46",
          "2012-08-07T11:24:27",
          "2012-09-10T17:42:47",
          "2012-10-04T22:16:13",
          "2012-10-06T22:21:44",
          "2012-10-09T22:19:57",
          "2012-10-18T17:46:50",
          "2012-10-29T17:50:06",
          "2012-11-12T17:50:24",
          "2012-11-18T15:06:47",
          "2012-11-20T13:23:16",
          "2012-11-23T22:19:16",
          "2012-12-05T07:01:13",
          "2013-01-30T17:31:54",
          "2013-02-01T17:53:54",
          "2013-02-02T17:24:41",
          "2013-02-02T17:34:35",
          "2013-02-04T17:55:08",
          "2013-04-16T21:10:58",
          "2013-04-22T20:58:46",
          "2013-05-07T20:52:28",
          "2013-05-09T21:02:20",
          "2013-05-22T17:09:59",
          "2013-05-28T18:05:49",
          "2013-05-31T18:00:36",
          "2013-06-02T17:24:38",
          "2013-06-10T17:23:40",
          "2013-08-11T07:53:32",
          "2013-09-08T07:59:17",
          "2013-10-30T02:06:03",
          "2013-12-05T02:06:39",
          "2013-12-07T20:26:25",
          "2014-03-23T17:38:35",
          "2014-04-18T17:24:47",
          "2014-04-28T17:27:27",
          "2014-04-29T17:27:58",
          "2014-05-02T17:18:56",
          "2014-06-21T21:09:39",
          "2014-06-28T17:33:00",
          "2014-07-04T19:28:22",
          "2014-07-30T03:12:44",
          "2014-09-01T17:43:44",
          "2014-09-12T22:19:51",
          "2014-09-14T17:28:05",
          "2014-10-14T17:48:17",
          "2014-10-17T17:44:37",
          "2014-10-20T17:31:09",
          "2014-10-25T17:23:06",
          "2014-11-09T17:21:27",
          "2014-11-17T17:41:17",
          "2014-11-20T17:23:35",
          "2014-11-21T17:43:01",
          "2014-11-28T17:27:29",
          "2014-11-30T19:31:40",
          "2014-11-30T22:46:12",
          "2014-12-12T17:37:43",
          "2014-12-14T16:37:17",
          "2014-12-21T06:05:38",
          "2014-12-21T14:16:20",
          "2014-12-21T17:54:05",
          "2015-01-16T22:45:33",
          "2015-02-15T14:35:19",
          "2015-02-15T17:49:33",
          "2015-02-17T17:49:28",
          "2015-02-19T17:33:55",
          "2015-03-10T08:40:33",
          "2015-03-31T17:28:12",
          "2015-04-02T17:47:07",
          "2015-04-03T17:29:49",
          "2015-04-03T17:41:11",
          "2015-04-04T19:04:50",
          "2015-04-04T19:42:51",
          "2015-04-11T21:05:23",
          "2015-08-15T20:35:23",
          "2015-11-28T20:13:28",
          "2015-12-30T17:51:46",
          "2016-01-03T17:12:54",
          "2016-01-07T17:20:35",
          "2016-01-09T20:07:36",
          "2016-01-09T20:13:25",
          "2016-01-23T17:32:14",
          "2016-02-09T21:13:49",
          "2016-02-10T17:45:09",
          "2016-02-12T17:50:27",
          "2016-02-13T17:16:09",
          "2016-02-13T19:59:11",
          "2016-02-20T21:51:57",
          "2016-03-05T20:07:56",
          "2016-03-24T17:28:10",
          "2016-03-27T18:09:55",
          "2016-06-19T07:35:07",
          "2016-09-20T12:16:39",
          "2016-09-29T17:25:35",
          "2016-12-22T05:24:10",
          "2017-01-15T22:48:30",
          "2017-02-03T22:53:00",
          "2017-04-19T17:29:12",
          "2017-05-28T17:29:13",
          "2017-07-02T22:46:10",
          "2017-08-16T14:57:28",
          "2017-10-01T17:19:19",
          "2017-10-08T08:30:56",
          "2017-10-11T16:56:31",
          "2017-10-19T17:34:44",
          "2017-11-01T17:31:53",
          "2017-11-01T22:47:39",
          "2017-11-06T17:30:51",
          "2018-01-02T02:40:24",
          "2018-02-13T05:08:09",
          "2018-04-12T14:52:17",
          "2018-04-15T04:02:39",
          "2018-04-27T22:57:15",
          "2018-05-24T16:54:00",
          "2018-05-25T18:09:30",
          "2018-07-03T07:48:07",
          "2018-07-04T02:49:42",
          "2018-07-24T07:01:35",
          "2018-08-08T08:31:57",
          "2018-08-26T16:51:48",
          "2018-09-02T21:59:49",
          "2018-09-05T13:44:31",
          "2018-11-12T16:57:10",
          "2018-12-01T12:17:59",
          "2018-12-20T05:24:03",
          "2019-01-07T18:47:44",
          "2019-02-07T16:19:06",
          "2019-02-28T07:08:46",
          "2019-03-16T06:14:47",
          "2019-03-20T14:20:09",
          "2019-04-16T09:11:22",
          "2019-04-19T04:28:15",
          "2019-04-20T12:05:46",
          "2019-04-22T15:48:09",
          "2019-04-23T08:10:24",
          "2019-04-23T17:37:55",
          "2019-04-25T07:06:15",
          "2019-04-27T06:21:20",
          "2019-04-27T16:15:38",
          "2019-05-10T08:53:35",
          "2019-05-16T03:04:25",
          "2019-06-15T05:25:13",
          "2019-08-27T07:52:44",
          "2019-09-27T17:22:18",
          "2019-10-19T11:47:29",
          "2019-11-11T10:47:18",
          "2019-11-11T10:47:29",
          "2019-12-19T14:29:49",
          "2020-05-28T20:08:06",
          "2020-06-18T09:28:16",
          "2020-07-01T20:32:06",
          "2020-08-10T04:54:49",
          "2020-11-06T17:29:27",
          "2020-11-25T00:00:05",
          "2020-11-25T03:20:17",
          "2020-12-08T17:34:30",
          "2020-12-10T17:26:13",
          "2020-12-11T17:25:34",
          "2020-12-16T04:58:06",
          "2020-12-31T09:24:15",
          "2021-03-10T06:28:07",
          "2021-06-07T17:26:41",
          "2021-07-30T05:51:07",
          "2021-08-20T06:01:13",
          "2021-08-30T17:34:49",
          "2021-09-02T17:37:34",
          "2021-09-03T17:22:29",
          "2021-09-05T17:24:37",
          "2021-09-06T17:30:47",
          "2021-10-08T00:26:43",
          "2021-10-09T17:43:32",
          "2021-10-13T17:26:26",
          "2021-10-18T17:30:42",
          "2021-10-22T17:29:18",
          "2021-10-24T17:33:03",
          "2021-10-29T17:31:19",
          "2021-11-03T09:32:23",
          "2021-11-05T17:31:22",
          "2021-11-24T17:29:20",
          "2022-01-08T08:46:47",
          "2022-02-10T05:25:19",
          "2022-06-04T09:26:36",
          "2022-06-09T06:49:31",
          "2022-10-12T11:21:19",
          "2022-11-07T17:26:29"
         ],
         "y": [
          1,
          2,
          3,
          4,
          5,
          6,
          7,
          8,
          9,
          10,
          11,
          12,
          13,
          14,
          15,
          16,
          17,
          18,
          19,
          20,
          21,
          22,
          23,
          24,
          25,
          26,
          27,
          28,
          29,
          30,
          31,
          32,
          33,
          34,
          35,
          36,
          37,
          38,
          39,
          40,
          41,
          42,
          43,
          44,
          45,
          46,
          47,
          48,
          49,
          50,
          51,
          52,
          53,
          54,
          55,
          56,
          57,
          58,
          59,
          60,
          61,
          62,
          63,
          64,
          65,
          66,
          67,
          68,
          69,
          70,
          71,
          72,
          73,
          74,
          75,
          76,
          77,
          78,
          79,
          80,
          81,
          82,
          83,
          84,
          85,
          86,
          87,
          88,
          89,
          90,
          91,
          92,
          93,
          94,
          95,
          96,
          97,
          98,
          99,
          100,
          101,
          102,
          103,
          104,
          105,
          106,
          107,
          108,
          109,
          110,
          111,
          112,
          113,
          114,
          115,
          116,
          117,
          118,
          119,
          120,
          121,
          122,
          123,
          124,
          125,
          126,
          127,
          128,
          129,
          130,
          131,
          132,
          133,
          134,
          135,
          136,
          137,
          138,
          139,
          140,
          141,
          142,
          143,
          144,
          145,
          146,
          147,
          148,
          149,
          150,
          151,
          152,
          153,
          154,
          155,
          156,
          157,
          158,
          159,
          160,
          161,
          162,
          163,
          164,
          165,
          166,
          167,
          168,
          169,
          170,
          171,
          172,
          173,
          174,
          175,
          176,
          177,
          178,
          179,
          180,
          181,
          182,
          183,
          184,
          185,
          186,
          187,
          188,
          189,
          190,
          191,
          192,
          193,
          194,
          195,
          196,
          197,
          198,
          199,
          200,
          201,
          202,
          203,
          204,
          205,
          206,
          207,
          208,
          209,
          210,
          211,
          212,
          213,
          214,
          215,
          216,
          217,
          218,
          219,
          220,
          221,
          222,
          223,
          224,
          225,
          226,
          227,
          228,
          229,
          230,
          231,
          232,
          233,
          234,
          235,
          236,
          237,
          238,
          239,
          240,
          241,
          242,
          243,
          244,
          245,
          246,
          247,
          248,
          249,
          250,
          251,
          252,
          253,
          254,
          255,
          256,
          257,
          258,
          259,
          260,
          261,
          262,
          263,
          264,
          265,
          266,
          267,
          268,
          269,
          270,
          271,
          272,
          273,
          274,
          275,
          276,
          277,
          278,
          279,
          280,
          281,
          282,
          283,
          284,
          285,
          286,
          287,
          288,
          289,
          290,
          291,
          292,
          293,
          294,
          295,
          296,
          297,
          298,
          299,
          300,
          301,
          302,
          303,
          304,
          305,
          306,
          307,
          308,
          309,
          310,
          311,
          312,
          313,
          314,
          315,
          316,
          317,
          318,
          319,
          320,
          321,
          322,
          323,
          324,
          325,
          326,
          327,
          328,
          329,
          330,
          331,
          332,
          333,
          334,
          335,
          336,
          337,
          338,
          339,
          340,
          341,
          342,
          343,
          344,
          345,
          346,
          347,
          348,
          349,
          350,
          351,
          352,
          353,
          354,
          355,
          356,
          357,
          358,
          359,
          360,
          361,
          362,
          363,
          364,
          365,
          366,
          367,
          368,
          369,
          370,
          371,
          372,
          373,
          374,
          375,
          376,
          377,
          378,
          379,
          380,
          381,
          382,
          383,
          384,
          385,
          386,
          387,
          388,
          389,
          390,
          391,
          392,
          393,
          394,
          395,
          396,
          397,
          398,
          399,
          400,
          401,
          402,
          403,
          404,
          405,
          406,
          407,
          408,
          409,
          410,
          411,
          412,
          413,
          414,
          415,
          416,
          417,
          418,
          419,
          420,
          421,
          422,
          423,
          424,
          425,
          426,
          427,
          428,
          429,
          430,
          431,
          432,
          433,
          434,
          435,
          436,
          437,
          438,
          439,
          440,
          441,
          442,
          443,
          444,
          445,
          446,
          447,
          448,
          449,
          450,
          451,
          452,
          453,
          454,
          455,
          456,
          457,
          458,
          459,
          460,
          461,
          462,
          463,
          464,
          465,
          466,
          467,
          468,
          469,
          470,
          471,
          472,
          473,
          474
         ]
        }
       ],
       "layout": {
        "template": {
         "data": {
          "bar": [
           {
            "error_x": {
             "color": "#2a3f5f"
            },
            "error_y": {
             "color": "#2a3f5f"
            },
            "marker": {
             "line": {
              "color": "#E5ECF6",
              "width": 0.5
             },
             "pattern": {
              "fillmode": "overlay",
              "size": 10,
              "solidity": 0.2
             }
            },
            "type": "bar"
           }
          ],
          "barpolar": [
           {
            "marker": {
             "line": {
              "color": "#E5ECF6",
              "width": 0.5
             },
             "pattern": {
              "fillmode": "overlay",
              "size": 10,
              "solidity": 0.2
             }
            },
            "type": "barpolar"
           }
          ],
          "carpet": [
           {
            "aaxis": {
             "endlinecolor": "#2a3f5f",
             "gridcolor": "white",
             "linecolor": "white",
             "minorgridcolor": "white",
             "startlinecolor": "#2a3f5f"
            },
            "baxis": {
             "endlinecolor": "#2a3f5f",
             "gridcolor": "white",
             "linecolor": "white",
             "minorgridcolor": "white",
             "startlinecolor": "#2a3f5f"
            },
            "type": "carpet"
           }
          ],
          "choropleth": [
           {
            "colorbar": {
             "outlinewidth": 0,
             "ticks": ""
            },
            "type": "choropleth"
           }
          ],
          "contour": [
           {
            "colorbar": {
             "outlinewidth": 0,
             "ticks": ""
            },
            "colorscale": [
             [
              0,
              "#0d0887"
             ],
             [
              0.1111111111111111,
              "#46039f"
             ],
             [
              0.2222222222222222,
              "#7201a8"
             ],
             [
              0.3333333333333333,
              "#9c179e"
             ],
             [
              0.4444444444444444,
              "#bd3786"
             ],
             [
              0.5555555555555556,
              "#d8576b"
             ],
             [
              0.6666666666666666,
              "#ed7953"
             ],
             [
              0.7777777777777778,
              "#fb9f3a"
             ],
             [
              0.8888888888888888,
              "#fdca26"
             ],
             [
              1,
              "#f0f921"
             ]
            ],
            "type": "contour"
           }
          ],
          "contourcarpet": [
           {
            "colorbar": {
             "outlinewidth": 0,
             "ticks": ""
            },
            "type": "contourcarpet"
           }
          ],
          "heatmap": [
           {
            "colorbar": {
             "outlinewidth": 0,
             "ticks": ""
            },
            "colorscale": [
             [
              0,
              "#0d0887"
             ],
             [
              0.1111111111111111,
              "#46039f"
             ],
             [
              0.2222222222222222,
              "#7201a8"
             ],
             [
              0.3333333333333333,
              "#9c179e"
             ],
             [
              0.4444444444444444,
              "#bd3786"
             ],
             [
              0.5555555555555556,
              "#d8576b"
             ],
             [
              0.6666666666666666,
              "#ed7953"
             ],
             [
              0.7777777777777778,
              "#fb9f3a"
             ],
             [
              0.8888888888888888,
              "#fdca26"
             ],
             [
              1,
              "#f0f921"
             ]
            ],
            "type": "heatmap"
           }
          ],
          "heatmapgl": [
           {
            "colorbar": {
             "outlinewidth": 0,
             "ticks": ""
            },
            "colorscale": [
             [
              0,
              "#0d0887"
             ],
             [
              0.1111111111111111,
              "#46039f"
             ],
             [
              0.2222222222222222,
              "#7201a8"
             ],
             [
              0.3333333333333333,
              "#9c179e"
             ],
             [
              0.4444444444444444,
              "#bd3786"
             ],
             [
              0.5555555555555556,
              "#d8576b"
             ],
             [
              0.6666666666666666,
              "#ed7953"
             ],
             [
              0.7777777777777778,
              "#fb9f3a"
             ],
             [
              0.8888888888888888,
              "#fdca26"
             ],
             [
              1,
              "#f0f921"
             ]
            ],
            "type": "heatmapgl"
           }
          ],
          "histogram": [
           {
            "marker": {
             "pattern": {
              "fillmode": "overlay",
              "size": 10,
              "solidity": 0.2
             }
            },
            "type": "histogram"
           }
          ],
          "histogram2d": [
           {
            "colorbar": {
             "outlinewidth": 0,
             "ticks": ""
            },
            "colorscale": [
             [
              0,
              "#0d0887"
             ],
             [
              0.1111111111111111,
              "#46039f"
             ],
             [
              0.2222222222222222,
              "#7201a8"
             ],
             [
              0.3333333333333333,
              "#9c179e"
             ],
             [
              0.4444444444444444,
              "#bd3786"
             ],
             [
              0.5555555555555556,
              "#d8576b"
             ],
             [
              0.6666666666666666,
              "#ed7953"
             ],
             [
              0.7777777777777778,
              "#fb9f3a"
             ],
             [
              0.8888888888888888,
              "#fdca26"
             ],
             [
              1,
              "#f0f921"
             ]
            ],
            "type": "histogram2d"
           }
          ],
          "histogram2dcontour": [
           {
            "colorbar": {
             "outlinewidth": 0,
             "ticks": ""
            },
            "colorscale": [
             [
              0,
              "#0d0887"
             ],
             [
              0.1111111111111111,
              "#46039f"
             ],
             [
              0.2222222222222222,
              "#7201a8"
             ],
             [
              0.3333333333333333,
              "#9c179e"
             ],
             [
              0.4444444444444444,
              "#bd3786"
             ],
             [
              0.5555555555555556,
              "#d8576b"
             ],
             [
              0.6666666666666666,
              "#ed7953"
             ],
             [
              0.7777777777777778,
              "#fb9f3a"
             ],
             [
              0.8888888888888888,
              "#fdca26"
             ],
             [
              1,
              "#f0f921"
             ]
            ],
            "type": "histogram2dcontour"
           }
          ],
          "mesh3d": [
           {
            "colorbar": {
             "outlinewidth": 0,
             "ticks": ""
            },
            "type": "mesh3d"
           }
          ],
          "parcoords": [
           {
            "line": {
             "colorbar": {
              "outlinewidth": 0,
              "ticks": ""
             }
            },
            "type": "parcoords"
           }
          ],
          "pie": [
           {
            "automargin": true,
            "type": "pie"
           }
          ],
          "scatter": [
           {
            "fillpattern": {
             "fillmode": "overlay",
             "size": 10,
             "solidity": 0.2
            },
            "type": "scatter"
           }
          ],
          "scatter3d": [
           {
            "line": {
             "colorbar": {
              "outlinewidth": 0,
              "ticks": ""
             }
            },
            "marker": {
             "colorbar": {
              "outlinewidth": 0,
              "ticks": ""
             }
            },
            "type": "scatter3d"
           }
          ],
          "scattercarpet": [
           {
            "marker": {
             "colorbar": {
              "outlinewidth": 0,
              "ticks": ""
             }
            },
            "type": "scattercarpet"
           }
          ],
          "scattergeo": [
           {
            "marker": {
             "colorbar": {
              "outlinewidth": 0,
              "ticks": ""
             }
            },
            "type": "scattergeo"
           }
          ],
          "scattergl": [
           {
            "marker": {
             "colorbar": {
              "outlinewidth": 0,
              "ticks": ""
             }
            },
            "type": "scattergl"
           }
          ],
          "scattermapbox": [
           {
            "marker": {
             "colorbar": {
              "outlinewidth": 0,
              "ticks": ""
             }
            },
            "type": "scattermapbox"
           }
          ],
          "scatterpolar": [
           {
            "marker": {
             "colorbar": {
              "outlinewidth": 0,
              "ticks": ""
             }
            },
            "type": "scatterpolar"
           }
          ],
          "scatterpolargl": [
           {
            "marker": {
             "colorbar": {
              "outlinewidth": 0,
              "ticks": ""
             }
            },
            "type": "scatterpolargl"
           }
          ],
          "scatterternary": [
           {
            "marker": {
             "colorbar": {
              "outlinewidth": 0,
              "ticks": ""
             }
            },
            "type": "scatterternary"
           }
          ],
          "surface": [
           {
            "colorbar": {
             "outlinewidth": 0,
             "ticks": ""
            },
            "colorscale": [
             [
              0,
              "#0d0887"
             ],
             [
              0.1111111111111111,
              "#46039f"
             ],
             [
              0.2222222222222222,
              "#7201a8"
             ],
             [
              0.3333333333333333,
              "#9c179e"
             ],
             [
              0.4444444444444444,
              "#bd3786"
             ],
             [
              0.5555555555555556,
              "#d8576b"
             ],
             [
              0.6666666666666666,
              "#ed7953"
             ],
             [
              0.7777777777777778,
              "#fb9f3a"
             ],
             [
              0.8888888888888888,
              "#fdca26"
             ],
             [
              1,
              "#f0f921"
             ]
            ],
            "type": "surface"
           }
          ],
          "table": [
           {
            "cells": {
             "fill": {
              "color": "#EBF0F8"
             },
             "line": {
              "color": "white"
             }
            },
            "header": {
             "fill": {
              "color": "#C8D4E3"
             },
             "line": {
              "color": "white"
             }
            },
            "type": "table"
           }
          ]
         },
         "layout": {
          "annotationdefaults": {
           "arrowcolor": "#2a3f5f",
           "arrowhead": 0,
           "arrowwidth": 1
          },
          "autotypenumbers": "strict",
          "coloraxis": {
           "colorbar": {
            "outlinewidth": 0,
            "ticks": ""
           }
          },
          "colorscale": {
           "diverging": [
            [
             0,
             "#8e0152"
            ],
            [
             0.1,
             "#c51b7d"
            ],
            [
             0.2,
             "#de77ae"
            ],
            [
             0.3,
             "#f1b6da"
            ],
            [
             0.4,
             "#fde0ef"
            ],
            [
             0.5,
             "#f7f7f7"
            ],
            [
             0.6,
             "#e6f5d0"
            ],
            [
             0.7,
             "#b8e186"
            ],
            [
             0.8,
             "#7fbc41"
            ],
            [
             0.9,
             "#4d9221"
            ],
            [
             1,
             "#276419"
            ]
           ],
           "sequential": [
            [
             0,
             "#0d0887"
            ],
            [
             0.1111111111111111,
             "#46039f"
            ],
            [
             0.2222222222222222,
             "#7201a8"
            ],
            [
             0.3333333333333333,
             "#9c179e"
            ],
            [
             0.4444444444444444,
             "#bd3786"
            ],
            [
             0.5555555555555556,
             "#d8576b"
            ],
            [
             0.6666666666666666,
             "#ed7953"
            ],
            [
             0.7777777777777778,
             "#fb9f3a"
            ],
            [
             0.8888888888888888,
             "#fdca26"
            ],
            [
             1,
             "#f0f921"
            ]
           ],
           "sequentialminus": [
            [
             0,
             "#0d0887"
            ],
            [
             0.1111111111111111,
             "#46039f"
            ],
            [
             0.2222222222222222,
             "#7201a8"
            ],
            [
             0.3333333333333333,
             "#9c179e"
            ],
            [
             0.4444444444444444,
             "#bd3786"
            ],
            [
             0.5555555555555556,
             "#d8576b"
            ],
            [
             0.6666666666666666,
             "#ed7953"
            ],
            [
             0.7777777777777778,
             "#fb9f3a"
            ],
            [
             0.8888888888888888,
             "#fdca26"
            ],
            [
             1,
             "#f0f921"
            ]
           ]
          },
          "colorway": [
           "#636efa",
           "#EF553B",
           "#00cc96",
           "#ab63fa",
           "#FFA15A",
           "#19d3f3",
           "#FF6692",
           "#B6E880",
           "#FF97FF",
           "#FECB52"
          ],
          "font": {
           "color": "#2a3f5f"
          },
          "geo": {
           "bgcolor": "white",
           "lakecolor": "white",
           "landcolor": "#E5ECF6",
           "showlakes": true,
           "showland": true,
           "subunitcolor": "white"
          },
          "hoverlabel": {
           "align": "left"
          },
          "hovermode": "closest",
          "mapbox": {
           "style": "light"
          },
          "paper_bgcolor": "white",
          "plot_bgcolor": "#E5ECF6",
          "polar": {
           "angularaxis": {
            "gridcolor": "white",
            "linecolor": "white",
            "ticks": ""
           },
           "bgcolor": "#E5ECF6",
           "radialaxis": {
            "gridcolor": "white",
            "linecolor": "white",
            "ticks": ""
           }
          },
          "scene": {
           "xaxis": {
            "backgroundcolor": "#E5ECF6",
            "gridcolor": "white",
            "gridwidth": 2,
            "linecolor": "white",
            "showbackground": true,
            "ticks": "",
            "zerolinecolor": "white"
           },
           "yaxis": {
            "backgroundcolor": "#E5ECF6",
            "gridcolor": "white",
            "gridwidth": 2,
            "linecolor": "white",
            "showbackground": true,
            "ticks": "",
            "zerolinecolor": "white"
           },
           "zaxis": {
            "backgroundcolor": "#E5ECF6",
            "gridcolor": "white",
            "gridwidth": 2,
            "linecolor": "white",
            "showbackground": true,
            "ticks": "",
            "zerolinecolor": "white"
           }
          },
          "shapedefaults": {
           "line": {
            "color": "#2a3f5f"
           }
          },
          "ternary": {
           "aaxis": {
            "gridcolor": "white",
            "linecolor": "white",
            "ticks": ""
           },
           "baxis": {
            "gridcolor": "white",
            "linecolor": "white",
            "ticks": ""
           },
           "bgcolor": "#E5ECF6",
           "caxis": {
            "gridcolor": "white",
            "linecolor": "white",
            "ticks": ""
           }
          },
          "title": {
           "x": 0.05
          },
          "xaxis": {
           "automargin": true,
           "gridcolor": "white",
           "linecolor": "white",
           "ticks": "",
           "title": {
            "standoff": 15
           },
           "zerolinecolor": "white",
           "zerolinewidth": 2
          },
          "yaxis": {
           "automargin": true,
           "gridcolor": "white",
           "linecolor": "white",
           "ticks": "",
           "title": {
            "standoff": 15
           },
           "zerolinecolor": "white",
           "zerolinewidth": 2
          }
         }
        }
       }
      }
     },
     "metadata": {},
     "output_type": "display_data"
    }
   ],
   "source": [
    "fig = go.Figure(data=go.Scatter(x=eq['UTC'], y=cumulative))\n",
    "fig.show()"
   ]
  },
  {
   "cell_type": "code",
   "execution_count": 89,
   "metadata": {},
   "outputs": [
    {
     "data": {
      "application/vnd.plotly.v1+json": {
       "config": {
        "plotlyServerURL": "https://plot.ly"
       },
       "data": [
        {
         "marker": {
          "color": [
           3,
           0,
           2.4,
           4,
           8,
           0,
           4,
           0,
           0,
           0,
           0,
           0,
           0,
           15.3,
           4,
           4.2,
           0,
           0,
           8.3,
           0,
           0,
           0,
           1.4,
           0,
           0.2,
           3.9,
           0.7,
           0,
           0,
           10,
           0,
           0,
           4,
           4,
           0,
           0,
           0,
           0,
           0,
           0,
           2,
           0,
           2.3,
           0,
           0,
           16,
           0,
           0,
           0.3,
           0,
           0,
           0,
           0,
           0,
           0,
           0,
           2,
           13.8,
           0,
           0.1,
           3.3,
           0,
           0,
           0,
           1,
           3.9,
           12,
           0,
           0,
           0,
           0,
           0,
           0,
           0,
           0,
           0,
           0,
           0.1,
           0,
           5.3,
           0,
           0,
           0,
           0.1,
           0,
           0,
           0.1,
           0,
           0,
           0,
           0,
           0,
           0,
           0,
           0,
           0,
           0,
           0,
           0,
           0,
           0,
           9.7,
           0,
           0,
           1.7,
           0,
           0,
           0,
           0,
           0,
           0,
           2.2,
           0,
           2,
           0,
           0,
           0,
           0.5,
           0,
           0,
           0,
           0,
           0,
           0,
           0.4,
           0,
           0,
           0,
           0,
           10,
           0,
           0,
           1.3,
           0,
           1.8,
           1.5,
           0,
           0,
           0,
           0,
           0,
           0,
           0,
           0,
           10.5,
           6.1,
           0,
           0,
           5.6,
           0,
           0,
           0,
           0,
           1,
           0,
           0,
           0,
           0,
           0,
           0.9,
           0,
           4,
           0,
           2.4,
           4,
           0,
           0,
           0,
           0,
           0,
           0,
           0,
           0,
           0,
           0.2,
           0.4,
           0,
           0.1,
           0,
           0,
           0,
           2.1,
           0.2,
           0,
           0,
           0,
           0.5,
           0,
           2.2,
           0,
           2,
           0,
           0,
           0,
           2.9,
           0,
           0,
           0,
           0,
           0,
           0,
           0,
           0.6,
           1.5,
           2,
           11.6,
           1.5,
           0,
           0,
           0,
           0.7,
           0.9,
           3,
           2,
           0,
           0.1,
           0,
           2,
           0,
           0,
           0,
           3.9,
           1.6,
           0,
           0,
           1.7,
           0,
           0,
           4,
           0,
           0.1,
           0,
           0,
           0,
           0,
           0,
           3.8,
           0,
           0,
           0,
           0.9,
           0,
           0,
           0,
           0,
           0,
           0,
           4,
           0,
           1,
           0,
           0,
           0,
           0,
           4,
           6,
           4,
           4,
           4.2,
           0,
           0,
           0,
           0,
           4,
           0,
           0,
           3.1,
           0,
           0,
           0,
           0,
           0,
           0,
           0,
           2,
           0,
           2,
           0,
           0,
           4,
           0,
           0,
           0.6,
           0,
           0,
           0,
           0,
           0,
           0,
           0.1,
           0,
           0,
           1.2,
           0,
           0,
           0.5,
           1.2,
           7.2,
           0,
           0.7,
           4.1,
           4.3,
           15,
           4,
           0,
           0,
           0,
           0,
           0,
           0,
           2,
           0,
           9.4,
           0,
           1.3,
           0,
           14.6,
           4,
           4,
           13.8,
           0,
           6.8,
           0,
           8.9,
           0,
           0,
           0,
           8.5,
           1.5,
           4.1,
           0,
           4.1,
           4.4,
           1.3,
           0,
           0,
           0,
           0,
           0,
           0,
           0,
           0,
           0,
           0,
           4.3,
           18,
           0,
           4,
           1.4,
           0,
           0.5,
           0,
           0,
           0,
           0,
           7.8,
           0,
           0,
           0,
           0,
           2,
           0,
           0,
           0,
           0,
           0,
           0,
           13.9,
           0,
           0,
           0,
           2.8,
           1.2,
           0,
           0,
           0,
           0,
           0,
           0,
           0,
           5.6,
           11.4,
           0,
           3.5,
           0,
           0,
           0,
           0,
           0,
           10.6,
           0,
           16,
           0,
           0,
           0,
           0,
           0,
           8,
           13,
           4.68,
           10.65,
           4.8,
           0,
           12,
           5.09,
           12.56,
           7.9,
           -0.11,
           11.52,
           11.08,
           17.08,
           2.36,
           7.51,
           0,
           6.32,
           2.17,
           13.66,
           12.31,
           0.93,
           -0.08,
           -0.01,
           3.64,
           4.51,
           5.34,
           2.12,
           2.87,
           5.46,
           3.61,
           10.72,
           5.24,
           14.8,
           -0.19,
           10.01,
           5.04,
           15.62,
           17.64,
           0,
           14.57,
           12.16,
           0,
           14.29,
           -0.08,
           -0.11,
           0.89,
           7.48,
           0,
           -0.03,
           9.2,
           12.35,
           0.53,
           -0.02,
           15.86,
           8.54,
           0,
           3,
           -0.01,
           -0.01,
           0,
           9.5,
           0,
           0,
           0,
           0,
           0,
           0,
           0,
           0,
           -0.4,
           2.02,
           7.03,
           2.38,
           0.16,
           9.76,
           7.22
          ],
          "colorscale": [
           [
            0,
            "rgb(128,0,0)"
           ],
           [
            0.2,
            "rgb(250,0,0)"
           ],
           [
            0.4,
            "rgb(255,255,0)"
           ],
           [
            0.6,
            "rgb(5,255,255)"
           ],
           [
            0.8,
            "rgb(0,60,170)"
           ],
           [
            1,
            "rgb(0,0,131)"
           ]
          ],
          "opacity": 0.8,
          "size": [
           10.556063286183154,
           12.99603834169977,
           8,
           8,
           6.964404506368992,
           11.313708498984761,
           8.574187700290345,
           8.574187700290345,
           6.498019170849885,
           6.964404506368992,
           8,
           6.498019170849885,
           7.464263932294459,
           6.062866266041593,
           6.964404506368992,
           7.464263932294459,
           7.464263932294459,
           8.574187700290345,
           8,
           8,
           9.18958683997628,
           8,
           5.278031643091577,
           4.924577653379664,
           5.656854249492381,
           6.062866266041593,
           4.924577653379664,
           4.2870938501451725,
           4.59479341998814,
           4.59479341998814,
           6.498019170849885,
           4.2870938501451725,
           6.498019170849885,
           5.278031643091577,
           6.062866266041593,
           6.498019170849885,
           4.59479341998814,
           5.278031643091577,
           5.278031643091577,
           4.924577653379664,
           4.924577653379664,
           6.062866266041593,
           7.464263932294459,
           4.59479341998814,
           4.2870938501451725,
           5.278031643091577,
           6.498019170849885,
           6.498019170849885,
           4.59479341998814,
           5.278031643091577,
           5.656854249492381,
           4.924577653379664,
           5.278031643091577,
           4.924577653379664,
           5.278031643091577,
           5.278031643091577,
           4.59479341998814,
           4.2870938501451725,
           4.59479341998814,
           5.656854249492381,
           3.4822022531844965,
           4,
           5.656854249492381,
           4.2870938501451725,
           6.062866266041593,
           4.59479341998814,
           4,
           3.7321319661472296,
           3.249009585424942,
           2.8284271247461903,
           5.278031643091577,
           4.924577653379664,
           4,
           3.249009585424942,
           3.4822022531844965,
           5.278031643091577,
           4.59479341998814,
           3.7321319661472296,
           5.656854249492381,
           3.7321319661472296,
           5.278031643091577,
           7.464263932294459,
           6.062866266041593,
           6.964404506368992,
           6.062866266041593,
           6.498019170849885,
           5.278031643091577,
           6.062866266041593,
           4.59479341998814,
           4.924577653379664,
           5.656854249492381,
           3.0314331330207964,
           4,
           6.498019170849885,
           5.656854249492381,
           6.964404506368992,
           5.278031643091577,
           5.278031643091577,
           4.59479341998814,
           6.062866266041593,
           5.656854249492381,
           5.656854249492381,
           5.278031643091577,
           6.498019170849885,
           6.498019170849885,
           5.656854249492381,
           5.656854249492381,
           5.656854249492381,
           5.278031643091577,
           4.924577653379664,
           6.964404506368992,
           4,
           5.656854249492381,
           4.2870938501451725,
           4.2870938501451725,
           4.2870938501451725,
           5.656854249492381,
           6.062866266041593,
           5.278031643091577,
           6.062866266041593,
           5.656854249492381,
           4.924577653379664,
           3.4822022531844965,
           5.278031643091577,
           5.278031643091577,
           4.2870938501451725,
           4,
           4.59479341998814,
           4.924577653379664,
           4.2870938501451725,
           6.062866266041593,
           6.498019170849885,
           6.062866266041593,
           6.498019170849885,
           6.062866266041593,
           6.964404506368992,
           4.2870938501451725,
           4.59479341998814,
           5.278031643091577,
           5.278031643091577,
           5.656854249492381,
           5.278031643091577,
           4.924577653379664,
           4,
           4.2870938501451725,
           5.278031643091577,
           3.249009585424942,
           4.2870938501451725,
           3.7321319661472296,
           4.59479341998814,
           2.8284271247461903,
           4.59479341998814,
           3.249009585424942,
           3.249009585424942,
           4.2870938501451725,
           4.2870938501451725,
           4.59479341998814,
           3.249009585424942,
           4,
           4,
           6.062866266041593,
           4.2870938501451725,
           4.2870938501451725,
           4,
           4.59479341998814,
           4,
           4.924577653379664,
           4.2870938501451725,
           4.2870938501451725,
           4,
           4,
           4,
           3.4822022531844965,
           3.249009585424942,
           5.278031643091577,
           3.7321319661472296,
           4,
           4.924577653379664,
           4.2870938501451725,
           4.924577653379664,
           5.278031643091577,
           3.7321319661472296,
           4.2870938501451725,
           3.0314331330207964,
           4.2870938501451725,
           4,
           3.0314331330207964,
           4,
           4.924577653379664,
           3.7321319661472296,
           5.278031643091577,
           4.59479341998814,
           4,
           4.59479341998814,
           4,
           5.278031643091577,
           2.6390158215457884,
           6.498019170849885,
           4.2870938501451725,
           4,
           3.7321319661472296,
           4,
           3.4822022531844965,
           4.2870938501451725,
           3.0314331330207964,
           3.7321319661472296,
           4.2870938501451725,
           2.2973967099940698,
           3.7321319661472296,
           4,
           4.59479341998814,
           3.7321319661472296,
           4.59479341998814,
           3.249009585424942,
           4,
           3.7321319661472296,
           3.249009585424942,
           3.0314331330207964,
           4,
           2.8284271247461903,
           5.656854249492381,
           4.2870938501451725,
           3.0314331330207964,
           4.924577653379664,
           3.7321319661472296,
           4,
           4,
           4.59479341998814,
           4,
           3.4822022531844965,
           4.2870938501451725,
           4,
           3.7321319661472296,
           3.7321319661472296,
           3.7321319661472296,
           4.2870938501451725,
           3.7321319661472296,
           3.0314331330207964,
           3.7321319661472296,
           4,
           3.249009585424942,
           4,
           3.249009585424942,
           4,
           4,
           4.59479341998814,
           4.59479341998814,
           4.2870938501451725,
           3.7321319661472296,
           3.4822022531844965,
           5.278031643091577,
           3.7321319661472296,
           4,
           4.2870938501451725,
           4,
           4.59479341998814,
           5.278031643091577,
           4.59479341998814,
           3.7321319661472296,
           4,
           4.59479341998814,
           4.59479341998814,
           4.59479341998814,
           4.2870938501451725,
           3.4822022531844965,
           3.249009585424942,
           3.7321319661472296,
           4.59479341998814,
           4.2870938501451725,
           4.924577653379664,
           3.4822022531844965,
           4.924577653379664,
           3.249009585424942,
           4.2870938501451725,
           2.4622888266898326,
           3.7321319661472296,
           4.2870938501451725,
           3.7321319661472296,
           2.8284271247461903,
           6.062866266041593,
           3.7321319661472296,
           4,
           5.656854249492381,
           4,
           4.924577653379664,
           4.2870938501451725,
           4,
           4.59479341998814,
           3.4822022531844965,
           4.924577653379664,
           4.59479341998814,
           4.59479341998814,
           4.924577653379664,
           5.278031643091577,
           5.278031643091577,
           5.278031643091577,
           4.2870938501451725,
           5.656854249492381,
           3.7321319661472296,
           4.924577653379664,
           6.498019170849885,
           3.4822022531844965,
           3.249009585424942,
           5.278031643091577,
           4.2870938501451725,
           4.2870938501451725,
           3.4822022531844965,
           4.2870938501451725,
           4.2870938501451725,
           4.2870938501451725,
           6.498019170849885,
           4,
           4,
           4.59479341998814,
           6.062866266041593,
           3.0314331330207964,
           4,
           2.6390158215457884,
           3.0314331330207964,
           3.0314331330207964,
           3.0314331330207964,
           4,
           4,
           5.656854249492381,
           4,
           4,
           4.2870938501451725,
           4.2870938501451725,
           4,
           4.59479341998814,
           4,
           3.4822022531844965,
           4.59479341998814,
           3.4822022531844965,
           4,
           3.7321319661472296,
           4.2870938501451725,
           3.4822022531844965,
           4.59479341998814,
           3.7321319661472296,
           3.4822022531844965,
           4.2870938501451725,
           3.7321319661472296,
           3.7321319661472296,
           4.924577653379664,
           3.4822022531844965,
           3.4822022531844965,
           2.4622888266898326,
           4.2870938501451725,
           3.7321319661472296,
           4,
           4,
           3.249009585424942,
           4,
           4.59479341998814,
           6.964404506368992,
           3.7321319661472296,
           4.924577653379664,
           4,
           4,
           4,
           3.4822022531844965,
           4.59479341998814,
           4.2870938501451725,
           3.4822022531844965,
           5.278031643091577,
           3.4822022531844965,
           4.2870938501451725,
           3.7321319661472296,
           4.924577653379664,
           4.924577653379664,
           4.59479341998814,
           3.7321319661472296,
           3.7321319661472296,
           3.7321319661472296,
           3.7321319661472296,
           4,
           4.924577653379664,
           4,
           5.278031643091577,
           2.1435469250725863,
           2.6390158215457884,
           3.4822022531844965,
           2.4622888266898326,
           4.59479341998814,
           4.59479341998814,
           4.2870938501451725,
           3.249009585424942,
           4,
           2.6390158215457884,
           4,
           2.2973967099940698,
           3.4822022531844965,
           3.7321319661472296,
           3.7321319661472296,
           3.4822022531844965,
           4.2870938501451725,
           2.1435469250725863,
           1.8660659830736148,
           2.1435469250725863,
           2,
           3.4822022531844965,
           2.2973967099940698,
           2.8284271247461903,
           3.0314331330207964,
           2.6390158215457884,
           1.515716566510398,
           1.624504792712471,
           2.6390158215457884,
           1.7411011265922482,
           1.8660659830736148,
           1.8660659830736148,
           2.6390158215457884,
           2.1435469250725863,
           2.1435469250725863,
           2.8284271247461903,
           1.7411011265922482,
           1.624504792712471,
           3.7321319661472296,
           1.8660659830736148,
           1.7411011265922482,
           1.8660659830736148,
           1.515716566510398,
           1.624504792712471,
           1.4142135623730951,
           1.4142135623730951,
           1.8660659830736148,
           2.6390158215457884,
           1.624504792712471,
           2.6390158215457884,
           1.624504792712471,
           2,
           2,
           2.2973967099940698,
           2.6390158215457884,
           2.2973967099940698,
           3.4822022531844965,
           2.4622888266898326,
           3.0314331330207964,
           2.6390158215457884,
           3.0314331330207964,
           2.8284271247461903,
           2.6390158215457884,
           2,
           3.4822022531844965,
           4.59479341998814,
           3.249009585424942,
           2,
           2.1435469250725863,
           2.8284271247461903,
           2.6390158215457884,
           4.59479341998814,
           2.8284271247461903,
           4,
           4.924577653379664,
           4.924577653379664,
           4.2870938501451725,
           4.2870938501451725,
           4.59479341998814,
           4,
           4.59479341998814,
           4.924577653379664,
           4,
           4.2870938501451725,
           4.924577653379664,
           2.1435469250725863,
           4.59479341998814,
           4.59479341998814,
           3.0314331330207964,
           4,
           3.249009585424942,
           2,
           3.0314331330207964,
           4
          ]
         },
         "mode": "markers",
         "type": "scatter3d",
         "x": [
          -73.33,
          -73.404,
          -73.45,
          -73.579,
          -73.302,
          -73.544,
          -73.445,
          -73.427,
          -73.447,
          -73.413,
          -73.54,
          -73.402,
          -73.404,
          -73.377,
          -73.676,
          -73.629,
          -73.56,
          -73.534,
          -73.579,
          -73.469,
          -73.654,
          -73.352,
          -73.749,
          -73.512,
          -73.508,
          -73.427,
          -73.714,
          -73.535,
          -73.315,
          -73.385,
          -73.567,
          -73.737,
          -73.569,
          -73.496,
          -73.636,
          -73.682,
          -73.373,
          -73.531,
          -73.546,
          -73.459,
          -73.407,
          -73.598,
          -73.413,
          -73.598,
          -73.54,
          -73.394,
          -73.508,
          -73.486,
          -73.688,
          -73.559,
          -73.717,
          -73.479,
          -73.565,
          -73.574,
          -73.39,
          -73.646,
          -73.53,
          -73.737,
          -73.467,
          -73.748,
          -73.759,
          -73.552,
          -73.32,
          -73.538,
          -73.719,
          -73.472,
          -73.525,
          -73.727,
          -73.439,
          -73.645,
          -73.421,
          -73.525,
          -73.503,
          -73.59,
          -73.567,
          -73.557,
          -73.331,
          -73.531,
          -73.394,
          -73.311,
          -73.567,
          -73.532,
          -73.462,
          -73.484,
          -73.349,
          -73.641,
          -73.448,
          -73.583,
          -73.544,
          -73.368,
          -73.373,
          -73.718,
          -73.452,
          -73.683,
          -73.553,
          -73.501,
          -73.47,
          -73.36,
          -73.38,
          -73.393,
          -73.484,
          -73.33,
          -73.313,
          -73.53,
          -73.464,
          -73.399,
          -73.345,
          -73.428,
          -73.418,
          -73.404,
          -73.374,
          -73.709,
          -73.381,
          -73.461,
          -73.559,
          -73.512,
          -73.375,
          -73.542,
          -73.374,
          -73.371,
          -73.387,
          -73.349,
          -73.372,
          -73.512,
          -73.476,
          -73.355,
          -73.464,
          -73.448,
          -73.382,
          -73.427,
          -73.577,
          -73.647,
          -73.311,
          -73.622,
          -73.402,
          -73.519,
          -73.631,
          -73.557,
          -73.616,
          -73.496,
          -73.366,
          -73.366,
          -73.42,
          -73.572,
          -73.537,
          -73.554,
          -73.526,
          -73.48,
          -73.581,
          -73.381,
          -73.475,
          -73.351,
          -73.588,
          -73.494,
          -73.511,
          -73.313,
          -73.354,
          -73.439,
          -73.621,
          -73.402,
          -73.369,
          -73.494,
          -73.489,
          -73.456,
          -73.479,
          -73.443,
          -73.504,
          -73.361,
          -73.455,
          -73.405,
          -73.49,
          -73.418,
          -73.498,
          -73.491,
          -73.645,
          -73.593,
          -73.514,
          -73.624,
          -73.576,
          -73.439,
          -73.448,
          -73.592,
          -73.612,
          -73.461,
          -73.495,
          -73.333,
          -73.312,
          -73.344,
          -73.395,
          -73.615,
          -73.496,
          -73.469,
          -73.413,
          -73.453,
          -73.363,
          -73.531,
          -73.398,
          -73.603,
          -73.54,
          -73.403,
          -73.333,
          -73.351,
          -73.446,
          -73.347,
          -73.44,
          -73.418,
          -73.307,
          -73.428,
          -73.39,
          -73.619,
          -73.324,
          -73.422,
          -73.471,
          -73.574,
          -73.52,
          -73.479,
          -73.531,
          -73.403,
          -73.498,
          -73.324,
          -73.393,
          -73.652,
          -73.516,
          -73.372,
          -73.547,
          -73.486,
          -73.406,
          -73.488,
          -73.478,
          -73.517,
          -73.53,
          -73.366,
          -73.435,
          -73.518,
          -73.545,
          -73.527,
          -73.442,
          -73.335,
          -73.546,
          -73.328,
          -73.319,
          -73.365,
          -73.387,
          -73.712,
          -73.736,
          -73.599,
          -73.624,
          -73.688,
          -73.402,
          -73.498,
          -73.512,
          -73.456,
          -73.566,
          -73.678,
          -73.721,
          -73.491,
          -73.61,
          -73.472,
          -73.392,
          -73.363,
          -73.478,
          -73.534,
          -73.415,
          -73.562,
          -73.312,
          -73.479,
          -73.443,
          -73.42,
          -73.629,
          -73.738,
          -73.424,
          -73.362,
          -73.413,
          -73.366,
          -73.721,
          -73.326,
          -73.691,
          -73.384,
          -73.342,
          -73.319,
          -73.398,
          -73.424,
          -73.524,
          -73.317,
          -73.518,
          -73.509,
          -73.508,
          -73.35,
          -73.717,
          -73.432,
          -73.484,
          -73.457,
          -73.473,
          -73.479,
          -73.71,
          -73.423,
          -73.717,
          -73.4,
          -73.65,
          -73.462,
          -73.469,
          -73.519,
          -73.643,
          -73.411,
          -73.403,
          -73.396,
          -73.468,
          -73.514,
          -73.429,
          -73.408,
          -73.352,
          -73.397,
          -73.583,
          -73.554,
          -73.59,
          -73.308,
          -73.346,
          -73.377,
          -73.511,
          -73.666,
          -73.381,
          -73.623,
          -73.335,
          -73.49,
          -73.373,
          -73.424,
          -73.357,
          -73.609,
          -73.468,
          -73.511,
          -73.624,
          -73.519,
          -73.472,
          -73.363,
          -73.559,
          -73.559,
          -73.362,
          -73.478,
          -73.34,
          -73.461,
          -73.338,
          -73.509,
          -73.431,
          -73.551,
          -73.357,
          -73.691,
          -73.318,
          -73.372,
          -73.464,
          -73.385,
          -73.328,
          -73.557,
          -73.445,
          -73.55,
          -73.411,
          -73.461,
          -73.409,
          -73.507,
          -73.452,
          -73.543,
          -73.677,
          -73.54,
          -73.436,
          -73.356,
          -73.511,
          -73.456,
          -73.423,
          -73.335,
          -73.485,
          -73.481,
          -73.53,
          -73.34,
          -73.504,
          -73.601,
          -73.347,
          -73.604,
          -73.57,
          -73.467,
          -73.446,
          -73.445,
          -73.325,
          -73.668,
          -73.319,
          -73.664,
          -73.365,
          -73.439,
          -73.538,
          -73.397,
          -73.308,
          -73.397,
          -73.342,
          -73.628,
          -73.511,
          -73.523,
          -73.56,
          -73.459,
          -73.493,
          -73.52,
          -73.621,
          -73.509,
          -73.309,
          -73.537,
          -73.471,
          -73.427,
          -73.505,
          -73.742,
          -73.326,
          -73.458,
          -73.492,
          -73.72,
          -73.727,
          -73.461,
          -73.419,
          -73.468,
          -73.464,
          -73.338,
          -73.467,
          -73.542,
          -73.429,
          -73.462,
          -73.466,
          -73.516,
          -73.538,
          -73.537,
          -73.542,
          -73.47,
          -73.519,
          -73.548,
          -73.447,
          -73.489,
          -73.689,
          -73.474,
          -73.473,
          -73.304,
          -73.549,
          -73.573,
          -73.597,
          -73.504,
          -73.456,
          -73.505,
          -73.543,
          -73.439,
          -73.488,
          -73.488,
          -73.323,
          -73.37,
          -73.428,
          -73.483,
          -73.499,
          -73.352,
          -73.464,
          -73.415,
          -73.347,
          -73.522,
          -73.505,
          -73.499,
          -73.494,
          -73.49,
          -73.358,
          -73.517,
          -73.54,
          -73.543,
          -73.319,
          -73.619,
          -73.452,
          -73.317,
          -73.591,
          -73.485,
          -73.586,
          -73.556,
          -73.362,
          -73.363,
          -73.489,
          -73.444
         ],
         "y": [
          9.41,
          9.412,
          9.705,
          9.563,
          9.749,
          9.764,
          9.489,
          9.721,
          9.608,
          9.616,
          9.617,
          9.653,
          9.621,
          9.53,
          9.621,
          9.713,
          9.682,
          9.75,
          9.664,
          9.729,
          9.763,
          9.452,
          9.771,
          9.388,
          9.612,
          9.702,
          9.663,
          9.622,
          9.672,
          9.6,
          9.538,
          9.719,
          9.617,
          9.519,
          9.694,
          9.56,
          9.47,
          9.521,
          9.442,
          9.464,
          9.375,
          9.589,
          9.51,
          9.653,
          9.361,
          9.46,
          9.459,
          9.467,
          9.472,
          9.689,
          9.536,
          9.41,
          9.479,
          9.564,
          9.592,
          9.543,
          9.815,
          9.694,
          9.501,
          9.57,
          9.536,
          9.463,
          9.563,
          9.524,
          9.493,
          9.494,
          9.572,
          9.598,
          9.732,
          9.562,
          9.472,
          9.469,
          9.401,
          9.608,
          9.585,
          9.593,
          9.523,
          9.428,
          9.406,
          9.885,
          9.486,
          9.556,
          9.482,
          9.546,
          9.355,
          9.66,
          9.518,
          9.433,
          9.456,
          9.517,
          9.452,
          9.462,
          9.508,
          9.482,
          9.553,
          9.61,
          9.606,
          9.363,
          9.551,
          9.502,
          9.451,
          9.382,
          9.493,
          9.439,
          9.55,
          9.42,
          9.534,
          9.542,
          9.495,
          9.446,
          9.523,
          9.476,
          9.49,
          9.474,
          9.435,
          9.502,
          9.488,
          9.472,
          9.516,
          9.54,
          9.447,
          9.618,
          9.634,
          9.409,
          9.65,
          9.445,
          9.491,
          9.461,
          9.573,
          9.445,
          9.47,
          9.512,
          9.646,
          9.464,
          9.818,
          9.528,
          9.478,
          9.439,
          9.464,
          9.594,
          9.47,
          9.532,
          9.56,
          9.595,
          9.437,
          9.421,
          9.488,
          9.581,
          9.676,
          9.419,
          9.484,
          9.547,
          9.57,
          9.612,
          9.536,
          9.589,
          9.668,
          9.644,
          9.543,
          9.737,
          9.699,
          9.649,
          9.459,
          9.7,
          9.441,
          9.703,
          9.48,
          9.708,
          9.567,
          9.611,
          9.418,
          9.763,
          9.63,
          9.418,
          9.634,
          9.561,
          9.581,
          9.669,
          9.365,
          9.697,
          9.45,
          9.465,
          9.693,
          9.672,
          9.48,
          9.454,
          9.798,
          9.497,
          9.851,
          9.512,
          9.399,
          9.417,
          9.629,
          9.625,
          9.573,
          9.606,
          9.496,
          9.565,
          9.77,
          9.648,
          9.729,
          9.745,
          9.581,
          9.616,
          9.733,
          9.598,
          9.646,
          9.648,
          9.758,
          9.486,
          9.589,
          9.375,
          9.544,
          9.637,
          9.566,
          9.664,
          9.638,
          9.512,
          9.547,
          9.619,
          9.616,
          9.455,
          9.581,
          9.646,
          9.761,
          9.6,
          9.645,
          9.73,
          9.615,
          9.459,
          9.731,
          9.61,
          9.8,
          9.664,
          9.848,
          9.726,
          9.711,
          9.657,
          9.648,
          9.601,
          9.473,
          9.604,
          9.762,
          9.65,
          9.637,
          9.884,
          9.789,
          9.643,
          9.748,
          9.823,
          9.7,
          9.599,
          9.698,
          9.7,
          9.688,
          9.533,
          9.627,
          9.629,
          9.616,
          9.726,
          9.679,
          9.634,
          9.637,
          9.601,
          9.611,
          9.577,
          9.613,
          9.619,
          9.592,
          9.629,
          9.841,
          9.629,
          9.815,
          9.603,
          9.638,
          9.739,
          9.77,
          9.829,
          9.824,
          9.57,
          9.819,
          9.611,
          9.594,
          9.627,
          9.634,
          9.634,
          9.651,
          9.589,
          9.374,
          9.702,
          9.466,
          9.431,
          9.661,
          9.616,
          9.607,
          9.675,
          9.583,
          9.441,
          9.641,
          9.539,
          9.444,
          9.642,
          9.424,
          9.694,
          9.81,
          9.775,
          9.711,
          9.481,
          9.779,
          9.517,
          9.759,
          9.568,
          9.405,
          9.733,
          9.632,
          9.579,
          9.55,
          9.817,
          9.558,
          9.709,
          9.586,
          9.857,
          9.781,
          9.805,
          9.501,
          9.728,
          9.495,
          9.534,
          9.451,
          9.508,
          9.418,
          9.471,
          9.592,
          9.53,
          9.62,
          9.569,
          9.491,
          9.558,
          9.623,
          9.588,
          9.526,
          9.49,
          9.79,
          9.775,
          9.626,
          9.855,
          9.675,
          9.815,
          9.773,
          9.534,
          9.591,
          9.823,
          9.603,
          9.595,
          9.753,
          9.72,
          9.736,
          9.562,
          9.746,
          9.609,
          9.853,
          9.58,
          9.736,
          9.527,
          9.526,
          9.568,
          9.671,
          9.538,
          9.538,
          9.564,
          9.767,
          9.651,
          9.525,
          9.578,
          9.586,
          9.563,
          9.593,
          9.572,
          9.734,
          9.629,
          9.384,
          9.854,
          9.703,
          9.541,
          9.591,
          9.627,
          9.755,
          9.612,
          9.622,
          9.552,
          9.653,
          9.648,
          9.742,
          9.875,
          9.876,
          9.637,
          9.85,
          9.855,
          9.861,
          9.583,
          9.879,
          9.637,
          9.619,
          9.673,
          9.515,
          9.477,
          9.488,
          9.743,
          9.705,
          9.472,
          9.47,
          9.643,
          9.814,
          9.752,
          9.797,
          9.554,
          9.765,
          9.632,
          9.379,
          9.764,
          9.757,
          9.484,
          9.48,
          9.482,
          9.486,
          9.787,
          9.482,
          9.481,
          9.676,
          9.371,
          9.581,
          9.755,
          9.762,
          9.75,
          9.709,
          9.709,
          9.408,
          9.364,
          9.667,
          9.371,
          9.481,
          9.532,
          9.547,
          9.541,
          9.737,
          9.59,
          9.739,
          9.722,
          9.666,
          9.77,
          9.732,
          9.686,
          9.618,
          9.762,
          9.782,
          9.551,
          9.544,
          9.77,
          9.544,
          9.607,
          9.784,
          9.816,
          9.588,
          9.861,
          9.765,
          9.741,
          9.872,
          9.598,
          9.487,
          9.876,
          9.789,
          9.783,
          9.575,
          9.6
         ],
         "z": [
          -3,
          0,
          -2.4,
          -4,
          -8,
          0,
          -4,
          0,
          0,
          0,
          0,
          0,
          0,
          -15.3,
          -4,
          -4.2,
          0,
          0,
          -8.3,
          0,
          0,
          0,
          -1.4,
          0,
          -0.2,
          -3.9,
          -0.7,
          0,
          0,
          -10,
          0,
          0,
          -4,
          -4,
          0,
          0,
          0,
          0,
          0,
          0,
          -2,
          0,
          -2.3,
          0,
          0,
          -16,
          0,
          0,
          -0.3,
          0,
          0,
          0,
          0,
          0,
          0,
          0,
          -2,
          -13.8,
          0,
          -0.1,
          -3.3,
          0,
          0,
          0,
          -1,
          -3.9,
          -12,
          0,
          0,
          0,
          0,
          0,
          0,
          0,
          0,
          0,
          0,
          -0.1,
          0,
          -5.3,
          0,
          0,
          0,
          -0.1,
          0,
          0,
          -0.1,
          0,
          0,
          0,
          0,
          0,
          0,
          0,
          0,
          0,
          0,
          0,
          0,
          0,
          0,
          -9.7,
          0,
          0,
          -1.7,
          0,
          0,
          0,
          0,
          0,
          0,
          -2.2,
          0,
          -2,
          0,
          0,
          0,
          -0.5,
          0,
          0,
          0,
          0,
          0,
          0,
          -0.4,
          0,
          0,
          0,
          0,
          -10,
          0,
          0,
          -1.3,
          0,
          -1.8,
          -1.5,
          0,
          0,
          0,
          0,
          0,
          0,
          0,
          0,
          -10.5,
          -6.1,
          0,
          0,
          -5.6,
          0,
          0,
          0,
          0,
          -1,
          0,
          0,
          0,
          0,
          0,
          -0.9,
          0,
          -4,
          0,
          -2.4,
          -4,
          0,
          0,
          0,
          0,
          0,
          0,
          0,
          0,
          0,
          -0.2,
          -0.4,
          0,
          -0.1,
          0,
          0,
          0,
          -2.1,
          -0.2,
          0,
          0,
          0,
          -0.5,
          0,
          -2.2,
          0,
          -2,
          0,
          0,
          0,
          -2.9,
          0,
          0,
          0,
          0,
          0,
          0,
          0,
          -0.6,
          -1.5,
          -2,
          -11.6,
          -1.5,
          0,
          0,
          0,
          -0.7,
          -0.9,
          -3,
          -2,
          0,
          -0.1,
          0,
          -2,
          0,
          0,
          0,
          -3.9,
          -1.6,
          0,
          0,
          -1.7,
          0,
          0,
          -4,
          0,
          -0.1,
          0,
          0,
          0,
          0,
          0,
          -3.8,
          0,
          0,
          0,
          -0.9,
          0,
          0,
          0,
          0,
          0,
          0,
          -4,
          0,
          -1,
          0,
          0,
          0,
          0,
          -4,
          -6,
          -4,
          -4,
          -4.2,
          0,
          0,
          0,
          0,
          -4,
          0,
          0,
          -3.1,
          0,
          0,
          0,
          0,
          0,
          0,
          0,
          -2,
          0,
          -2,
          0,
          0,
          -4,
          0,
          0,
          -0.6,
          0,
          0,
          0,
          0,
          0,
          0,
          -0.1,
          0,
          0,
          -1.2,
          0,
          0,
          -0.5,
          -1.2,
          -7.2,
          0,
          -0.7,
          -4.1,
          -4.3,
          -15,
          -4,
          0,
          0,
          0,
          0,
          0,
          0,
          -2,
          0,
          -9.4,
          0,
          -1.3,
          0,
          -14.6,
          -4,
          -4,
          -13.8,
          0,
          -6.8,
          0,
          -8.9,
          0,
          0,
          0,
          -8.5,
          -1.5,
          -4.1,
          0,
          -4.1,
          -4.4,
          -1.3,
          0,
          0,
          0,
          0,
          0,
          0,
          0,
          0,
          0,
          0,
          -4.3,
          -18,
          0,
          -4,
          -1.4,
          0,
          -0.5,
          0,
          0,
          0,
          0,
          -7.8,
          0,
          0,
          0,
          0,
          -2,
          0,
          0,
          0,
          0,
          0,
          0,
          -13.9,
          0,
          0,
          0,
          -2.8,
          -1.2,
          0,
          0,
          0,
          0,
          0,
          0,
          0,
          -5.6,
          -11.4,
          0,
          -3.5,
          0,
          0,
          0,
          0,
          0,
          -10.6,
          0,
          -16,
          0,
          0,
          0,
          0,
          0,
          -8,
          -13,
          -4.68,
          -10.65,
          -4.8,
          0,
          -12,
          -5.09,
          -12.56,
          -7.9,
          0.11,
          -11.52,
          -11.08,
          -17.08,
          -2.36,
          -7.51,
          0,
          -6.32,
          -2.17,
          -13.66,
          -12.31,
          -0.93,
          0.08,
          0.01,
          -3.64,
          -4.51,
          -5.34,
          -2.12,
          -2.87,
          -5.46,
          -3.61,
          -10.72,
          -5.24,
          -14.8,
          0.19,
          -10.01,
          -5.04,
          -15.62,
          -17.64,
          0,
          -14.57,
          -12.16,
          0,
          -14.29,
          0.08,
          0.11,
          -0.89,
          -7.48,
          0,
          0.03,
          -9.2,
          -12.35,
          -0.53,
          0.02,
          -15.86,
          -8.54,
          0,
          -3,
          0.01,
          0.01,
          0,
          -9.5,
          0,
          0,
          0,
          0,
          0,
          0,
          0,
          0,
          0.4,
          -2.02,
          -7.03,
          -2.38,
          -0.16,
          -9.76,
          -7.22
         ]
        },
        {
         "error_z": {
          "array": [
           0,
           0,
           0,
           0,
           0,
           0,
           0,
           0,
           0,
           0,
           0,
           0,
           0,
           0,
           0,
           0,
           0,
           0,
           0,
           0,
           0,
           0,
           0,
           0,
           0,
           0,
           0,
           0,
           0,
           0,
           0,
           0,
           0,
           0,
           0,
           0,
           0,
           0,
           0,
           0,
           0,
           0,
           0,
           0,
           0,
           0,
           0,
           0
          ],
          "arrayminus": [
           1.7068800000000002,
           0.5401056,
           0.5334,
           0.6745224000000001,
           3.1144464000000003,
           0.5977128,
           0.625409976,
           0.42367200000000005,
           0.49194720000000003,
           0,
           0.24384,
           0.6096,
           0.478536,
           0.27432,
           0.5574792,
           0.5026152,
           1.2402312000000002,
           1.2960096,
           2.10312,
           0.6455664000000001,
           0.5154168000000001,
           0.3797808,
           0,
           0.381,
           2.7432000000000003,
           0.4447032,
           0.5148072000000001,
           2.7432000000000003,
           0.28145232,
           0.5013960000000001,
           0.5181600000000001,
           0.5120640000000001,
           0.28145232,
           0.7781544,
           0.521208,
           0.7083552000000001,
           0.554736,
           0.57912,
           0.3286963200000001,
           0.57912,
           0.5041392,
           0.7321295999999999,
           0.36271200000000003,
           2.7733752,
           0.344424,
           1.9943064000000001,
           0.4059936,
           0.633984
          ],
          "color": "black",
          "symmetric": false,
          "visible": true,
          "width": 0.01
         },
         "marker": {
          "color": "black",
          "opacity": 0.8,
          "size": 5
         },
         "mode": "markers",
         "type": "scatter3d",
         "x": [
          -73.39517118,
          -73.50866352,
          -73.50772843,
          -73.52023343,
          -73.40125817,
          -73.51737518,
          -73.40384949,
          -73.51860667,
          -73.50588637,
          -73.6188347,
          -73.52107344,
          -73.57455861,
          -73.50738394,
          -73.5080225,
          -73.51005997,
          -73.50684666,
          -73.62044216,
          -73.67264723,
          -73.55589083,
          -73.51913368,
          -73.50689618,
          -73.53882998,
          -73.63521065,
          -73.460265,
          -73.50605364,
          -73.44230456,
          -73.5076302,
          -73.48979925,
          -73.58525072,
          -73.50655702,
          -73.5080225,
          -73.5080225,
          -73.58525072,
          -73.51873816,
          -73.51620897,
          -73.52062624,
          -73.52015642,
          -73.39449443,
          -73.58636591,
          -73.4794357,
          -73.51913312,
          -73.51899507,
          -73.4266198,
          -73.56920652,
          -73.49792281,
          -73.39138447,
          -73.52675867,
          -73.51941678
         ],
         "y": [
          9.55131161,
          9.51817699,
          9.60001672,
          9.52019991,
          9.76502379,
          9.53059342,
          9.61102012,
          9.55730777,
          9.52960904,
          9.57328848,
          9.70917366,
          9.44871722,
          9.50867258,
          9.51149227,
          9.53057309,
          9.52297667,
          9.59645339,
          9.56334932,
          9.55096073,
          9.5235286,
          9.51399328,
          9.72565731,
          9.55932002,
          9.5974469,
          9.4457997,
          9.75467455,
          9.52636426,
          9.66753546,
          9.81666382,
          9.53231025,
          9.51149227,
          9.51149227,
          9.81666382,
          9.50647294,
          9.5350082,
          9.515244,
          9.52565279,
          9.55155099,
          9.8106816,
          9.54725598,
          9.55004886,
          9.51096085,
          9.76486076,
          9.61507841,
          9.54922537,
          9.75227167,
          9.69857809,
          9.52692794
         ],
         "z": [
          0,
          0,
          0,
          0,
          0,
          0,
          0,
          0,
          0,
          0,
          0,
          0,
          0,
          0,
          0,
          0,
          0,
          0,
          0,
          0,
          0,
          0,
          0,
          0,
          0,
          0,
          0,
          0,
          0,
          0,
          0,
          0,
          0,
          0,
          0,
          0,
          0,
          0,
          0,
          0,
          0,
          0,
          0,
          0,
          0,
          0,
          0,
          0
         ]
        }
       ],
       "layout": {
        "template": {
         "data": {
          "bar": [
           {
            "error_x": {
             "color": "#2a3f5f"
            },
            "error_y": {
             "color": "#2a3f5f"
            },
            "marker": {
             "line": {
              "color": "#E5ECF6",
              "width": 0.5
             },
             "pattern": {
              "fillmode": "overlay",
              "size": 10,
              "solidity": 0.2
             }
            },
            "type": "bar"
           }
          ],
          "barpolar": [
           {
            "marker": {
             "line": {
              "color": "#E5ECF6",
              "width": 0.5
             },
             "pattern": {
              "fillmode": "overlay",
              "size": 10,
              "solidity": 0.2
             }
            },
            "type": "barpolar"
           }
          ],
          "carpet": [
           {
            "aaxis": {
             "endlinecolor": "#2a3f5f",
             "gridcolor": "white",
             "linecolor": "white",
             "minorgridcolor": "white",
             "startlinecolor": "#2a3f5f"
            },
            "baxis": {
             "endlinecolor": "#2a3f5f",
             "gridcolor": "white",
             "linecolor": "white",
             "minorgridcolor": "white",
             "startlinecolor": "#2a3f5f"
            },
            "type": "carpet"
           }
          ],
          "choropleth": [
           {
            "colorbar": {
             "outlinewidth": 0,
             "ticks": ""
            },
            "type": "choropleth"
           }
          ],
          "contour": [
           {
            "colorbar": {
             "outlinewidth": 0,
             "ticks": ""
            },
            "colorscale": [
             [
              0,
              "#0d0887"
             ],
             [
              0.1111111111111111,
              "#46039f"
             ],
             [
              0.2222222222222222,
              "#7201a8"
             ],
             [
              0.3333333333333333,
              "#9c179e"
             ],
             [
              0.4444444444444444,
              "#bd3786"
             ],
             [
              0.5555555555555556,
              "#d8576b"
             ],
             [
              0.6666666666666666,
              "#ed7953"
             ],
             [
              0.7777777777777778,
              "#fb9f3a"
             ],
             [
              0.8888888888888888,
              "#fdca26"
             ],
             [
              1,
              "#f0f921"
             ]
            ],
            "type": "contour"
           }
          ],
          "contourcarpet": [
           {
            "colorbar": {
             "outlinewidth": 0,
             "ticks": ""
            },
            "type": "contourcarpet"
           }
          ],
          "heatmap": [
           {
            "colorbar": {
             "outlinewidth": 0,
             "ticks": ""
            },
            "colorscale": [
             [
              0,
              "#0d0887"
             ],
             [
              0.1111111111111111,
              "#46039f"
             ],
             [
              0.2222222222222222,
              "#7201a8"
             ],
             [
              0.3333333333333333,
              "#9c179e"
             ],
             [
              0.4444444444444444,
              "#bd3786"
             ],
             [
              0.5555555555555556,
              "#d8576b"
             ],
             [
              0.6666666666666666,
              "#ed7953"
             ],
             [
              0.7777777777777778,
              "#fb9f3a"
             ],
             [
              0.8888888888888888,
              "#fdca26"
             ],
             [
              1,
              "#f0f921"
             ]
            ],
            "type": "heatmap"
           }
          ],
          "heatmapgl": [
           {
            "colorbar": {
             "outlinewidth": 0,
             "ticks": ""
            },
            "colorscale": [
             [
              0,
              "#0d0887"
             ],
             [
              0.1111111111111111,
              "#46039f"
             ],
             [
              0.2222222222222222,
              "#7201a8"
             ],
             [
              0.3333333333333333,
              "#9c179e"
             ],
             [
              0.4444444444444444,
              "#bd3786"
             ],
             [
              0.5555555555555556,
              "#d8576b"
             ],
             [
              0.6666666666666666,
              "#ed7953"
             ],
             [
              0.7777777777777778,
              "#fb9f3a"
             ],
             [
              0.8888888888888888,
              "#fdca26"
             ],
             [
              1,
              "#f0f921"
             ]
            ],
            "type": "heatmapgl"
           }
          ],
          "histogram": [
           {
            "marker": {
             "pattern": {
              "fillmode": "overlay",
              "size": 10,
              "solidity": 0.2
             }
            },
            "type": "histogram"
           }
          ],
          "histogram2d": [
           {
            "colorbar": {
             "outlinewidth": 0,
             "ticks": ""
            },
            "colorscale": [
             [
              0,
              "#0d0887"
             ],
             [
              0.1111111111111111,
              "#46039f"
             ],
             [
              0.2222222222222222,
              "#7201a8"
             ],
             [
              0.3333333333333333,
              "#9c179e"
             ],
             [
              0.4444444444444444,
              "#bd3786"
             ],
             [
              0.5555555555555556,
              "#d8576b"
             ],
             [
              0.6666666666666666,
              "#ed7953"
             ],
             [
              0.7777777777777778,
              "#fb9f3a"
             ],
             [
              0.8888888888888888,
              "#fdca26"
             ],
             [
              1,
              "#f0f921"
             ]
            ],
            "type": "histogram2d"
           }
          ],
          "histogram2dcontour": [
           {
            "colorbar": {
             "outlinewidth": 0,
             "ticks": ""
            },
            "colorscale": [
             [
              0,
              "#0d0887"
             ],
             [
              0.1111111111111111,
              "#46039f"
             ],
             [
              0.2222222222222222,
              "#7201a8"
             ],
             [
              0.3333333333333333,
              "#9c179e"
             ],
             [
              0.4444444444444444,
              "#bd3786"
             ],
             [
              0.5555555555555556,
              "#d8576b"
             ],
             [
              0.6666666666666666,
              "#ed7953"
             ],
             [
              0.7777777777777778,
              "#fb9f3a"
             ],
             [
              0.8888888888888888,
              "#fdca26"
             ],
             [
              1,
              "#f0f921"
             ]
            ],
            "type": "histogram2dcontour"
           }
          ],
          "mesh3d": [
           {
            "colorbar": {
             "outlinewidth": 0,
             "ticks": ""
            },
            "type": "mesh3d"
           }
          ],
          "parcoords": [
           {
            "line": {
             "colorbar": {
              "outlinewidth": 0,
              "ticks": ""
             }
            },
            "type": "parcoords"
           }
          ],
          "pie": [
           {
            "automargin": true,
            "type": "pie"
           }
          ],
          "scatter": [
           {
            "fillpattern": {
             "fillmode": "overlay",
             "size": 10,
             "solidity": 0.2
            },
            "type": "scatter"
           }
          ],
          "scatter3d": [
           {
            "line": {
             "colorbar": {
              "outlinewidth": 0,
              "ticks": ""
             }
            },
            "marker": {
             "colorbar": {
              "outlinewidth": 0,
              "ticks": ""
             }
            },
            "type": "scatter3d"
           }
          ],
          "scattercarpet": [
           {
            "marker": {
             "colorbar": {
              "outlinewidth": 0,
              "ticks": ""
             }
            },
            "type": "scattercarpet"
           }
          ],
          "scattergeo": [
           {
            "marker": {
             "colorbar": {
              "outlinewidth": 0,
              "ticks": ""
             }
            },
            "type": "scattergeo"
           }
          ],
          "scattergl": [
           {
            "marker": {
             "colorbar": {
              "outlinewidth": 0,
              "ticks": ""
             }
            },
            "type": "scattergl"
           }
          ],
          "scattermapbox": [
           {
            "marker": {
             "colorbar": {
              "outlinewidth": 0,
              "ticks": ""
             }
            },
            "type": "scattermapbox"
           }
          ],
          "scatterpolar": [
           {
            "marker": {
             "colorbar": {
              "outlinewidth": 0,
              "ticks": ""
             }
            },
            "type": "scatterpolar"
           }
          ],
          "scatterpolargl": [
           {
            "marker": {
             "colorbar": {
              "outlinewidth": 0,
              "ticks": ""
             }
            },
            "type": "scatterpolargl"
           }
          ],
          "scatterternary": [
           {
            "marker": {
             "colorbar": {
              "outlinewidth": 0,
              "ticks": ""
             }
            },
            "type": "scatterternary"
           }
          ],
          "surface": [
           {
            "colorbar": {
             "outlinewidth": 0,
             "ticks": ""
            },
            "colorscale": [
             [
              0,
              "#0d0887"
             ],
             [
              0.1111111111111111,
              "#46039f"
             ],
             [
              0.2222222222222222,
              "#7201a8"
             ],
             [
              0.3333333333333333,
              "#9c179e"
             ],
             [
              0.4444444444444444,
              "#bd3786"
             ],
             [
              0.5555555555555556,
              "#d8576b"
             ],
             [
              0.6666666666666666,
              "#ed7953"
             ],
             [
              0.7777777777777778,
              "#fb9f3a"
             ],
             [
              0.8888888888888888,
              "#fdca26"
             ],
             [
              1,
              "#f0f921"
             ]
            ],
            "type": "surface"
           }
          ],
          "table": [
           {
            "cells": {
             "fill": {
              "color": "#EBF0F8"
             },
             "line": {
              "color": "white"
             }
            },
            "header": {
             "fill": {
              "color": "#C8D4E3"
             },
             "line": {
              "color": "white"
             }
            },
            "type": "table"
           }
          ]
         },
         "layout": {
          "annotationdefaults": {
           "arrowcolor": "#2a3f5f",
           "arrowhead": 0,
           "arrowwidth": 1
          },
          "autotypenumbers": "strict",
          "coloraxis": {
           "colorbar": {
            "outlinewidth": 0,
            "ticks": ""
           }
          },
          "colorscale": {
           "diverging": [
            [
             0,
             "#8e0152"
            ],
            [
             0.1,
             "#c51b7d"
            ],
            [
             0.2,
             "#de77ae"
            ],
            [
             0.3,
             "#f1b6da"
            ],
            [
             0.4,
             "#fde0ef"
            ],
            [
             0.5,
             "#f7f7f7"
            ],
            [
             0.6,
             "#e6f5d0"
            ],
            [
             0.7,
             "#b8e186"
            ],
            [
             0.8,
             "#7fbc41"
            ],
            [
             0.9,
             "#4d9221"
            ],
            [
             1,
             "#276419"
            ]
           ],
           "sequential": [
            [
             0,
             "#0d0887"
            ],
            [
             0.1111111111111111,
             "#46039f"
            ],
            [
             0.2222222222222222,
             "#7201a8"
            ],
            [
             0.3333333333333333,
             "#9c179e"
            ],
            [
             0.4444444444444444,
             "#bd3786"
            ],
            [
             0.5555555555555556,
             "#d8576b"
            ],
            [
             0.6666666666666666,
             "#ed7953"
            ],
            [
             0.7777777777777778,
             "#fb9f3a"
            ],
            [
             0.8888888888888888,
             "#fdca26"
            ],
            [
             1,
             "#f0f921"
            ]
           ],
           "sequentialminus": [
            [
             0,
             "#0d0887"
            ],
            [
             0.1111111111111111,
             "#46039f"
            ],
            [
             0.2222222222222222,
             "#7201a8"
            ],
            [
             0.3333333333333333,
             "#9c179e"
            ],
            [
             0.4444444444444444,
             "#bd3786"
            ],
            [
             0.5555555555555556,
             "#d8576b"
            ],
            [
             0.6666666666666666,
             "#ed7953"
            ],
            [
             0.7777777777777778,
             "#fb9f3a"
            ],
            [
             0.8888888888888888,
             "#fdca26"
            ],
            [
             1,
             "#f0f921"
            ]
           ]
          },
          "colorway": [
           "#636efa",
           "#EF553B",
           "#00cc96",
           "#ab63fa",
           "#FFA15A",
           "#19d3f3",
           "#FF6692",
           "#B6E880",
           "#FF97FF",
           "#FECB52"
          ],
          "font": {
           "color": "#2a3f5f"
          },
          "geo": {
           "bgcolor": "white",
           "lakecolor": "white",
           "landcolor": "#E5ECF6",
           "showlakes": true,
           "showland": true,
           "subunitcolor": "white"
          },
          "hoverlabel": {
           "align": "left"
          },
          "hovermode": "closest",
          "mapbox": {
           "style": "light"
          },
          "paper_bgcolor": "white",
          "plot_bgcolor": "#E5ECF6",
          "polar": {
           "angularaxis": {
            "gridcolor": "white",
            "linecolor": "white",
            "ticks": ""
           },
           "bgcolor": "#E5ECF6",
           "radialaxis": {
            "gridcolor": "white",
            "linecolor": "white",
            "ticks": ""
           }
          },
          "scene": {
           "xaxis": {
            "backgroundcolor": "#E5ECF6",
            "gridcolor": "white",
            "gridwidth": 2,
            "linecolor": "white",
            "showbackground": true,
            "ticks": "",
            "zerolinecolor": "white"
           },
           "yaxis": {
            "backgroundcolor": "#E5ECF6",
            "gridcolor": "white",
            "gridwidth": 2,
            "linecolor": "white",
            "showbackground": true,
            "ticks": "",
            "zerolinecolor": "white"
           },
           "zaxis": {
            "backgroundcolor": "#E5ECF6",
            "gridcolor": "white",
            "gridwidth": 2,
            "linecolor": "white",
            "showbackground": true,
            "ticks": "",
            "zerolinecolor": "white"
           }
          },
          "shapedefaults": {
           "line": {
            "color": "#2a3f5f"
           }
          },
          "ternary": {
           "aaxis": {
            "gridcolor": "white",
            "linecolor": "white",
            "ticks": ""
           },
           "baxis": {
            "gridcolor": "white",
            "linecolor": "white",
            "ticks": ""
           },
           "bgcolor": "#E5ECF6",
           "caxis": {
            "gridcolor": "white",
            "linecolor": "white",
            "ticks": ""
           }
          },
          "title": {
           "x": 0.05
          },
          "xaxis": {
           "automargin": true,
           "gridcolor": "white",
           "linecolor": "white",
           "ticks": "",
           "title": {
            "standoff": 15
           },
           "zerolinecolor": "white",
           "zerolinewidth": 2
          },
          "yaxis": {
           "automargin": true,
           "gridcolor": "white",
           "linecolor": "white",
           "ticks": "",
           "title": {
            "standoff": 15
           },
           "zerolinecolor": "white",
           "zerolinewidth": 2
          }
         }
        }
       }
      }
     },
     "metadata": {},
     "output_type": "display_data"
    }
   ],
   "source": [
    "fig = go.Figure(data=[go.Scatter3d(\n",
    "    x=eq['LON'],\n",
    "    y=eq['LAT'],\n",
    "    z=eq['DP']*-1,\n",
    "    mode='markers',\n",
    "    marker=dict(\n",
    "        size=2**eq['MAG'],\n",
    "        color=eq['DP'],                # set color to an array/list of desired values\n",
    "        colorscale='Jet_r',   # choose a colorscale\n",
    "        opacity=0.8\n",
    "    )\n",
    ")])\n",
    "pozos=go.Scatter3d(\n",
    "    x=well['WELL_LONGI'],\n",
    "    y=well['WELL_LATIT'],\n",
    "    z=[0]*len(well['WELL_LATIT']),\n",
    "    mode='markers',\n",
    "    marker=dict(\n",
    "        size=5,\n",
    "        color='black',                # set color to an array/list of desired values\n",
    "        # colorscale='Viridis',   # choose a colorscale\n",
    "        opacity=0.8\n",
    "    ),\n",
    "    error_z=dict(\n",
    "        array=[0]*len(well['WELL_LONGI']), \n",
    "        arrayminus=well['DP']/1000,             \n",
    "        color='black',   # choose a colorscale\n",
    "        symmetric=False,\n",
    "        # colorscale='Jet',\n",
    "        width=0.01,\n",
    "        visible=True\n",
    "    )\n",
    ")\n",
    "fig.add_trace(pozos)\n",
    "fig.show()"
   ]
  },
  {
   "cell_type": "code",
   "execution_count": 90,
   "metadata": {},
   "outputs": [],
   "source": [
    "# fig = go.Figure(data=go.Scatter(x=eq['UTC'].values[0:-1], y=slopev))\n",
    "# fig.show()"
   ]
  },
  {
   "cell_type": "markdown",
   "metadata": {},
   "source": [
    "### Formas de Onda "
   ]
  },
  {
   "cell_type": "code",
   "execution_count": 248,
   "metadata": {},
   "outputs": [],
   "source": [
    "from obspy import read\n",
    "# from obspy.signal import filter\n",
    "import matplotlib.pyplot as plt\n",
    "# import obspy\n",
    "# from obspy.clients.fdsn import Client\n",
    "# from obspy.signal.trigger import recursive_sta_lta, trigger_onset\n",
    "from obspy.core.utcdatetime import UTCDateTime\n",
    "from obspy.core.event.catalog import read_events\n",
    "from scipy.fft import fft, fftfreq"
   ]
  },
  {
   "cell_type": "code",
   "execution_count": 250,
   "metadata": {},
   "outputs": [],
   "source": [
    "st = read('data/2015-12-13-1849-21S.COL___184') #[CAMBIAR] Carpeta con TODAS las fromas de onda\n",
    "tr = st.select(id=\"CM.LL7C.00.HHZ\")[0]\n",
    "ztra=[tr] #TODAS las trazas que cumplan los requisitos\n",
    "# for i in st: #Esos datos tiene varias trazas\n",
    "#      if  'LL7' in i.stats.station:#LL7 es la estacion con la que se hará el analisis de ALGUNOS sismos, por el periodo\n",
    "#         if i.stats.channel=='HHZ' or i.stats.channel=='EHZ': #Principalmente en el eje vertical\n",
    "#             ztra.append(i)\n",
    "#             pass"
   ]
  },
  {
   "cell_type": "markdown",
   "metadata": {},
   "source": [
    "¿Cual es la mejor estacion para hacer el analisis espectral?¿La mas cercana por periodo de tiempo?¿Revisar boletines? Para el periodo de (15/10/2015)-(22/03/18)"
   ]
  },
  {
   "cell_type": "markdown",
   "metadata": {},
   "source": [
    "<b>10/11/22*<b/><br>\n",
    "<br>\n",
    "1.  Espectro de Fourier\n",
    "2.  Evaluar atributos del dominio de las frecuencias según \"Cadena Ibarra, O. (2021). Modelos de fuente de sismicidad LP para la actividad del volcán Galeras 2004-2010 (Colombia). Universidad Nacional de Colombia.\""
   ]
  },
  {
   "cell_type": "code",
   "execution_count": 251,
   "metadata": {},
   "outputs": [
    {
     "name": "stderr",
     "output_type": "stream",
     "text": [
      "c:\\Users\\jujim\\anaconda3\\envs\\cdt\\lib\\site-packages\\obspy\\io\\nordic\\utils.py:184: UserWarning:\n",
      "\n",
      "Lines of type I have not been implemented yet, please submit a development request\n",
      "\n"
     ]
    }
   ],
   "source": [
    "sf=read_events('data/13-1851-39L.S201512') #[CAMBIAR] Carpeta a los SFILE"
   ]
  },
  {
   "cell_type": "code",
   "execution_count": 252,
   "metadata": {},
   "outputs": [
    {
     "data": {
      "image/png": "[encoded data removed]",
      "text/plain": [
       "<Figure size 800x250 with 1 Axes>"
      ]
     },
     "metadata": {},
     "output_type": "display_data"
    },
    {
     "data": {
      "image/png": "[encoded data removed]",
      "text/plain": [
       "<Figure size 640x480 with 1 Axes>"
      ]
     },
     "metadata": {},
     "output_type": "display_data"
    }
   ],
   "source": [
    "for i in ztra:\n",
    "    i=i.copy()\n",
    "    #Aplicarle un filtro pasa alto!!!!!!\n",
    "    #i.filter('lowpass', freq=1/100, corners=2, zerophase=True)\n",
    "    #i.data = filter.lowpass(i.data,freq=100, corners=1, zerophase=True, df=i.stats.sampling_rate)\n",
    "    # i.plot()\n",
    "    i.filter('highpass', freq=1.0, corners=2, zerophase=True)\n",
    "    # i.filter('highpass',freq=1)\n",
    "    for h in sf[0].picks: #cambiar s file por archivo\n",
    "        if h.waveform_id.station_code=='LL7C':\n",
    "            if h.waveform_id.channel_code=='HZ':\n",
    "                if h.phase_hint=='P':\n",
    "                    dt=UTCDateTime(h.time)\n",
    "        else:\n",
    "            pass\n",
    "    # dt = UTCDateTime(\"2015-12-13T18:51:40\") #auto cut\n",
    "    i.trim(dt-1, dt + 20)  \n",
    "    i.plot()\n",
    "    spec=i.spectrogram(log=False, title=i.stats.network+'.'+i.stats.station+'.'+i.stats.location+'.'+i.stats.channel +'___'+ str(i.stats.starttime))\n",
    "    #Espectro de Fourier\n",
    "    "
   ]
  },
  {
   "cell_type": "code",
   "execution_count": 267,
   "metadata": {},
   "outputs": [
    {
     "ename": "AttributeError",
     "evalue": "'NoneType' object has no attribute 'plot'",
     "output_type": "error",
     "traceback": [
      "\u001b[1;31m---------------------------------------------------------------------------\u001b[0m",
      "\u001b[1;31mAttributeError\u001b[0m                            Traceback (most recent call last)",
      "\u001b[1;32mc:\\Users\\jujim\\Documents\\InducedCross\\exploration.ipynb Celda 49\u001b[0m in \u001b[0;36m<cell line: 1>\u001b[1;34m()\u001b[0m\n\u001b[1;32m----> <a href='vscode-notebook-cell:/c%3A/Users/jujim/Documents/InducedCross/exploration.ipynb#Y153sZmlsZQ%3D%3D?line=0'>1</a>\u001b[0m spec\u001b[39m.\u001b[39;49mplot()\n",
      "\u001b[1;31mAttributeError\u001b[0m: 'NoneType' object has no attribute 'plot'"
     ]
    }
   ],
   "source": []
  },
  {
   "cell_type": "code",
   "execution_count": 253,
   "metadata": {},
   "outputs": [],
   "source": [
    "# Construcción de la señal\n",
    "N = i.stats.npts# number of point in the whole interval\n",
    "f = i.stats.sampling_rate\n",
    "dt = i.stats.delta\n",
    "# t = np.linspace( 0, (N-1)*dt, N)\n",
    "y = i.data"
   ]
  },
  {
   "cell_type": "code",
   "execution_count": 254,
   "metadata": {},
   "outputs": [],
   "source": [
    "fft_x = fft(y) / N # FFT Normalized\n",
    "freq = fftfreq(N, dt) # Recuperamos las frecuencias"
   ]
  },
  {
   "cell_type": "code",
   "execution_count": 255,
   "metadata": {},
   "outputs": [
    {
     "data": {
      "text/plain": [
       "(0.0, 1000.0)"
      ]
     },
     "execution_count": 255,
     "metadata": {},
     "output_type": "execute_result"
    },
    {
     "data": {
      "image/png": "[encoded data removed]",
      "text/plain": [
       "<Figure size 640x480 with 1 Axes>"
      ]
     },
     "metadata": {},
     "output_type": "display_data"
    }
   ],
   "source": [
    "plt.plot(freq[range(int(N/2))],abs(fft_x[range(int(N/2))]))\n",
    "plt.ylim(0,1000)"
   ]
  },
  {
   "cell_type": "code",
   "execution_count": 256,
   "metadata": {},
   "outputs": [],
   "source": [
    "four=pd.DataFrame()\n",
    "four['freq']=freq[range(int(N/2))]\n",
    "four['ampl']=abs(fft_x[range(int(N/2))])"
   ]
  },
  {
   "cell_type": "code",
   "execution_count": 277,
   "metadata": {},
   "outputs": [
    {
     "name": "stdout",
     "output_type": "stream",
     "text": [
      "20.5140409328891\n"
     ]
    }
   ],
   "source": [
    "#Frecuencia dominante\n",
    "freq_dom=four[four['ampl']==four['ampl'].max()]['freq'].values[0]\n",
    "print(freq_dom)"
   ]
  },
  {
   "cell_type": "code",
   "execution_count": 275,
   "metadata": {},
   "outputs": [
    {
     "name": "stdout",
     "output_type": "stream",
     "text": [
      "21.180390290337932\n"
     ]
    }
   ],
   "source": [
    "#Frecuencia central [PROVISIONAL] Mejorar metodo de integracion\n",
    "ae=four['ampl'].sum()/2\n",
    "four['cum']=np.cumsum(four['ampl'])\n",
    "four['dist']=np.abs(ae-four['cum'])\n",
    "freq_cent=four[four['dist']==four['dist'].min()]['freq'].values[0]\n",
    "print(freq_cent)"
   ]
  },
  {
   "cell_type": "code",
   "execution_count": 276,
   "metadata": {},
   "outputs": [
    {
     "name": "stdout",
     "output_type": "stream",
     "text": [
      "21.82476838541982\n"
     ]
    }
   ],
   "source": [
    "#Frecuencia Centroide\n",
    "import numpy as np\n",
    "#https://stackoverflow.com/questions/24354279/python-spectral-centroid-for-a-wav-file\n",
    "def spectral_centroid(x, samplerate):\n",
    "    magnitudes = np.abs(np.fft.rfft(x)) # magnitudes of positive frequencies\n",
    "    length = len(x)\n",
    "    freqs = np.abs(np.fft.fftfreq(length, 1.0/samplerate)[:length//2+1]) # positive frequencies\n",
    "    return np.sum(magnitudes*freqs) / np.sum(magnitudes) # return weighted mean\n",
    "freq_centroid=spectral_centroid(i.data, i.stats.sampling_rate)\n",
    "print(freq_centroid)"
   ]
  },
  {
   "cell_type": "code",
   "execution_count": 278,
   "metadata": {},
   "outputs": [],
   "source": [
    "import scipy"
   ]
  },
  {
   "cell_type": "code",
   "execution_count": 281,
   "metadata": {},
   "outputs": [
    {
     "data": {
      "text/plain": [
       "(array([   6,    8,   13,   18,   24,   28,   33,   38,   43,   47,   50,\n",
       "          52,   54,   59,   63,   70,   74,   79,   81,   84,   86,   88,\n",
       "          90,   93,   95,   97,   99,  104,  108,  112,  117,  121,  126,\n",
       "         132,  136,  141,  147,  152,  156,  160,  163,  166,  170,  175,\n",
       "         179,  183,  188,  193,  197,  203,  207,  211,  214,  219,  223,\n",
       "         227,  235,  239,  244,  248,  253,  258,  263,  267,  271,  277,\n",
       "         281,  286,  290,  296,  301,  306,  311,  317,  322,  327,  331,\n",
       "         335,  339,  344,  349,  354,  358,  361,  364,  369,  374,  380,\n",
       "         383,  387,  392,  397,  401,  404,  408,  413,  418,  422,  426,\n",
       "         428,  434,  439,  444,  448,  454,  459,  462,  467,  472,  476,\n",
       "         481,  485,  488,  491,  495,  500,  504,  509,  513,  517,  523,\n",
       "         529,  534,  536,  540,  544,  549,  555,  560,  564,  569,  574,\n",
       "         578,  584,  589,  593,  599,  603,  608,  611,  614,  617,  622,\n",
       "         625,  629,  633,  637,  639,  641,  644,  648,  651,  655,  661,\n",
       "         665,  669,  673,  678,  684,  687,  691,  696,  702,  706,  710,\n",
       "         715,  721,  725,  730,  736,  738,  741,  745,  750,  754,  758,\n",
       "         764,  770,  774,  779,  783,  786,  789,  792,  797,  803,  808,\n",
       "         812,  818,  822,  827,  831,  834,  838,  842,  846,  851,  856,\n",
       "         863,  867,  871,  876,  881,  883,  889,  894,  899,  904,  908,\n",
       "         913,  916,  919,  921,  925,  930,  935,  940,  944,  950,  954,\n",
       "         958,  963,  966,  971,  976,  981,  985,  990,  994,  999, 1004,\n",
       "        1009, 1014, 1018, 1022, 1027, 1030, 1032, 1036, 1039, 1043, 1048,\n",
       "        1052, 1057, 1063, 1066, 1069, 1073, 1080, 1084, 1089, 1091, 1094,\n",
       "        1098, 1103, 1107, 1111, 1116, 1121, 1125, 1127, 1132, 1136, 1140,\n",
       "        1146, 1151, 1156, 1161, 1165, 1169, 1173, 1177, 1181, 1187, 1192,\n",
       "        1196, 1201, 1207, 1209, 1213, 1217, 1223, 1228, 1232, 1236, 1239,\n",
       "        1243, 1249, 1254, 1259, 1263, 1267, 1270, 1275, 1279, 1283, 1287,\n",
       "        1291, 1295, 1298, 1304, 1307, 1310, 1315, 1320, 1325, 1330, 1334,\n",
       "        1339, 1344, 1349, 1354, 1359, 1363, 1367, 1371, 1375, 1378, 1383,\n",
       "        1386, 1390, 1394, 1397, 1400, 1403, 1408, 1413, 1418, 1421, 1424,\n",
       "        1428, 1433, 1436, 1438, 1442, 1446, 1450, 1455, 1459, 1466, 1470,\n",
       "        1475, 1477, 1481, 1485, 1490, 1494, 1500, 1504, 1506, 1510, 1514,\n",
       "        1520, 1525, 1530, 1534, 1537, 1543, 1547, 1551, 1556, 1560, 1565,\n",
       "        1569, 1572, 1576, 1579, 1584, 1589, 1594, 1597, 1599, 1604, 1609,\n",
       "        1614, 1618, 1623, 1628, 1632, 1636, 1641, 1645, 1649, 1652, 1656,\n",
       "        1660, 1665, 1668, 1673, 1678, 1681, 1685, 1691, 1695, 1700, 1704,\n",
       "        1708, 1712, 1719, 1723, 1725, 1728, 1733, 1738, 1741, 1744, 1749,\n",
       "        1753, 1757, 1761, 1765, 1769, 1775, 1779, 1785, 1791, 1796, 1801,\n",
       "        1804, 1809, 1814, 1818, 1823, 1827, 1832, 1838, 1843, 1846, 1849,\n",
       "        1852, 1856, 1860, 1863, 1866, 1869, 1873, 1878, 1883, 1888, 1893,\n",
       "        1896, 1903, 1907, 1912, 1915, 1919, 1925, 1930, 1934, 1938, 1941,\n",
       "        1944, 1947, 1951, 1954, 1956, 1960, 1964, 1968, 1971, 1975, 1980,\n",
       "        1986, 1989, 1992, 1996, 2000, 2004, 2008, 2013, 2016, 2018, 2023,\n",
       "        2027, 2031, 2036, 2040, 2045, 2049, 2054, 2059, 2064, 2069, 2073,\n",
       "        2077, 2080, 2084, 2090, 2096], dtype=int64),\n",
       " {})"
      ]
     },
     "execution_count": 281,
     "metadata": {},
     "output_type": "execute_result"
    }
   ],
   "source": [
    "scipy.signal.find_peaks(i.data)"
   ]
  },
  {
   "cell_type": "code",
   "execution_count": 280,
   "metadata": {},
   "outputs": [
    {
     "data": {
      "text/plain": [
       "array([   1,   23,   56,  117,  171,  272,  301,  323,  397,  440,  472,\n",
       "        481,  565,  584,  593,  674,  684,  691,  721,  770,  822,  895,\n",
       "        909,  945,  972, 1099, 1122, 1132, 1182, 1236, 1254, 1428, 1510,\n",
       "       1515, 1543, 1566, 1609, 1673, 1733, 1838, 1879, 1913, 1935, 1981,\n",
       "       1986, 2064], dtype=int64)"
      ]
     },
     "execution_count": 280,
     "metadata": {},
     "output_type": "execute_result"
    }
   ],
   "source": [
    "#Frecuencia de maxima energia\n",
    "scipy.signal.find_peaks_cwt(i.data,np.arange(1,10))"
   ]
  },
  {
   "cell_type": "code",
   "execution_count": null,
   "metadata": {},
   "outputs": [],
   "source": [
    "#Banda de energía 70%\n"
   ]
  },
  {
   "cell_type": "code",
   "execution_count": null,
   "metadata": {},
   "outputs": [],
   "source": [
    "# Indice de Frecuencia\n"
   ]
  },
  {
   "cell_type": "code",
   "execution_count": null,
   "metadata": {},
   "outputs": [],
   "source": [
    "#Duracion -revisar ondas coda\n"
   ]
  }
 ],
 "metadata": {
  "kernelspec": {
   "display_name": "Python 3.10.6 ('cdt')",
   "language": "python",
   "name": "python3"
  },
  "language_info": {
   "codemirror_mode": {
    "name": "ipython",
    "version": 3
   },
   "file_extension": ".py",
   "mimetype": "text/x-python",
   "name": "python",
   "nbconvert_exporter": "python",
   "pygments_lexer": "ipython3",
   "version": "3.10.6"
  },
  "orig_nbformat": 4,
  "vscode": {
   "interpreter": {
    "hash": "bfd2e0f65efb746cc4a90a458a8d14b4cc7f8c5056a4d5d65e8f2a065e4206d5"
   }
  }
 },
 "nbformat": 4,
 "nbformat_minor": 2
}
